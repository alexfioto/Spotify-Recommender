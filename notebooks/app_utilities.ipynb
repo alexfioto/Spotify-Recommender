{
 "cells": [
  {
   "cell_type": "markdown",
   "metadata": {},
   "source": [
    "# App Utility Functions"
   ]
  },
  {
   "cell_type": "markdown",
   "metadata": {},
   "source": [
    "# Search Spotify Code"
   ]
  },
  {
   "cell_type": "code",
   "execution_count": 1,
   "metadata": {},
   "outputs": [],
   "source": [
    "#CLIENT_ID=*SEE NOTES*\n",
    "#CLIENT_SECRET=*SEE NOTES*\n",
    "\n",
    "\n",
    "import spotipy\n",
    "from spotipy import util\n",
    "from spotipy.oauth2 import SpotifyClientCredentials, SpotifyOAuth\n",
    "import pandas as pd\n",
    "import matplotlib.pyplot as plt\n",
    "import urllib\n",
    "\n",
    "## REMOVE CLIENT_ID AND CLIENT_SECRET BEFORE PUSHING ##\n",
    "\n",
    "#CLIENT_ID\n",
    "#CLIENT_SECRET\n",
    "USERNAME = 'elw86ve5g5t944wwlef6qyzu3' # Alex Fioto's user id\n",
    "SCOPE = 'playlist-modify-public user-top-read'\n",
    "LOCAL_REDIRECT_URI = 'http://127.0.0.1:8080'\n",
    "REDIRECT_URI = 'https://allosaurusrecs.herokuapp.com/'\n",
    "scope='user-read-currently-playing playlist-modify-public user-top-read playlist-read-private user-read-playback-state'\n",
    "\n",
    "# Requesting access token\n",
    "token = util.prompt_for_user_token(username=USERNAME,\n",
    "                                   scope=scope,\n",
    "                                   client_id=CLIENT_ID,\n",
    "                                   client_secret=CLIENT_SECRET,\n",
    "                                   redirect_uri=LOCAL_REDIRECT_URI) \n",
    "# Instantiating OAuth object\n",
    "spotify = spotipy.Spotify(auth=token)"
   ]
  },
  {
   "cell_type": "code",
   "execution_count": 92,
   "metadata": {},
   "outputs": [],
   "source": [
    "def spotify_uri_search(spotify, search, type='album', limit=10):\n",
    "    '''\n",
    "    Search for a Spotify track, album, playlist, show or episode URI. \n",
    "    \n",
    "    Parameters:\n",
    "    search: search string\n",
    "    \n",
    "    type: type of uri. Choose from track, album, playlist, artist, show or episode URI. \n",
    "    \n",
    "    limit: integer limit to return. 0-50\n",
    "    '''\n",
    "    # Creating empty results list and results dictionary\n",
    "    if limit > 50 or limit < 1:\n",
    "        raise TypeError('Limit needs to be an integer between 1-50')\n",
    "    results = []\n",
    "    res_dict = {}\n",
    "\n",
    "     # Replacing spaces with + \n",
    "    q = search.replace(' ', '+')\n",
    "\n",
    "    # Creating search object\n",
    "    res = spotify.search(q=q, limit=limit, type=type,)\n",
    "\n",
    "    # Selecting all of the tracks in search object\n",
    "    items = res[type+'s']['items']\n",
    "    \n",
    "    if type == 'track':\n",
    "        df = pd.DataFrame(columns=['Track', 'Artist', 'Code'])\n",
    "        for i in range(len(items)):\n",
    "            artists = ', '.join([artist['name'] for artist in items[i]['artists']])\n",
    "\n",
    "            df.loc[i] = [items[i]['name'], artists, items[i]['uri']]\n",
    "    \n",
    "    elif type == 'playlist':\n",
    "        df = pd.DataFrame(columns=['Playlist', 'Description', 'Code'])\n",
    "        for i in range(len(items)):\n",
    "            df.loc[i] = [items[i]['name'], items[i]['description'], items[i]['uri']]\n",
    "    \n",
    "    elif type == 'album':\n",
    "        df = pd.DataFrame(columns=['Album', 'Artist', 'Code'])\n",
    "        for i in range(len(items)):\n",
    "            artists = ', '.join([artist['name'] for artist in items[i]['artists']])\n",
    "            df.loc[i] = [items[i]['name'], artists, items[i]['uri']]\n",
    "    else:\n",
    "        df = pd.DataFrame(columns=['Artist', 'Code'])\n",
    "        for i in range(len(items)):\n",
    "            df.loc[i] = [items[i]['name'], items[i]['uri']]\n",
    "        \n",
    "        \n",
    "#     # Iterating through tracks or albums \n",
    "#     for item in items:\n",
    "#         # Creating result dictionary entry\n",
    "#         res_dict[item['name']] = item['uri']\n",
    "#         if type == 'track':\n",
    "#             res_dict\n",
    "               \n",
    "#         # Adding name of track or album along with the artists to results\n",
    "#         results.append(item['name'] + ' BY ' + item['artists'][0]['name'])\n",
    "    \n",
    "#     # Printing results for user to decide which album\n",
    "#     for i in range(len(results)):\n",
    "#         print(f'{i}: {type}: {results[i]}')\n",
    "        \n",
    "#     # Requesting user input for correct choice\n",
    "#     response = input('Please select a valid index')\n",
    "    \n",
    "#     # Selecting appropriate Spotify URI\n",
    "#     uri = res_dict.get(results[int(response)].split(' BY ')[0])\n",
    "    \n",
    "    return df"
   ]
  },
  {
   "cell_type": "code",
   "execution_count": 93,
   "metadata": {},
   "outputs": [],
   "source": [
    "res = spotify_uri_search(spotify, 'nobody speak run the jewels', 'album')"
   ]
  },
  {
   "cell_type": "code",
   "execution_count": 94,
   "metadata": {},
   "outputs": [
    {
     "data": {
      "text/html": [
       "<div>\n",
       "<style scoped>\n",
       "    .dataframe tbody tr th:only-of-type {\n",
       "        vertical-align: middle;\n",
       "    }\n",
       "\n",
       "    .dataframe tbody tr th {\n",
       "        vertical-align: top;\n",
       "    }\n",
       "\n",
       "    .dataframe thead th {\n",
       "        text-align: right;\n",
       "    }\n",
       "</style>\n",
       "<table border=\"1\" class=\"dataframe\">\n",
       "  <thead>\n",
       "    <tr style=\"text-align: right;\">\n",
       "      <th></th>\n",
       "      <th>Album</th>\n",
       "      <th>Artist</th>\n",
       "      <th>Code</th>\n",
       "    </tr>\n",
       "  </thead>\n",
       "  <tbody>\n",
       "    <tr>\n",
       "      <th>0</th>\n",
       "      <td>Nobody Speak</td>\n",
       "      <td>DJ Shadow, Run The Jewels</td>\n",
       "      <td>spotify:album:0HAzckjeAN0GuAkR67ngQ4</td>\n",
       "    </tr>\n",
       "  </tbody>\n",
       "</table>\n",
       "</div>"
      ],
      "text/plain": [
       "          Album                     Artist  \\\n",
       "0  Nobody Speak  DJ Shadow, Run The Jewels   \n",
       "\n",
       "                                   Code  \n",
       "0  spotify:album:0HAzckjeAN0GuAkR67ngQ4  "
      ]
     },
     "execution_count": 94,
     "metadata": {},
     "output_type": "execute_result"
    }
   ],
   "source": [
    "res"
   ]
  },
  {
   "cell_type": "code",
   "execution_count": 62,
   "metadata": {},
   "outputs": [],
   "source": [
    "res = spotify.search(q='run+the+jewels', type='artist')"
   ]
  },
  {
   "cell_type": "code",
   "execution_count": 63,
   "metadata": {},
   "outputs": [],
   "source": [
    "items = res['artists']['items']"
   ]
  },
  {
   "cell_type": "code",
   "execution_count": 31,
   "metadata": {},
   "outputs": [],
   "source": [
    "res_dict={}\n",
    "for item in items:\n",
    "    res_dict[item['name']] = item['uri']\n",
    "    "
   ]
  },
  {
   "cell_type": "code",
   "execution_count": null,
   "metadata": {},
   "outputs": [],
   "source": []
  },
  {
   "cell_type": "code",
   "execution_count": 16,
   "metadata": {},
   "outputs": [
    {
     "data": {
      "text/plain": [
       "'Run The Jewels'"
      ]
     },
     "execution_count": 16,
     "metadata": {},
     "output_type": "execute_result"
    }
   ],
   "source": [
    "items[0]['artists'][0]['name']"
   ]
  },
  {
   "cell_type": "code",
   "execution_count": 64,
   "metadata": {},
   "outputs": [],
   "source": [
    "df = pd.DataFrame(columns=['Artist', 'Code'])\n",
    "for i in range(len(items)):\n",
    "    df.loc[i] = [items[i]['name'], items[i]['uri']]"
   ]
  },
  {
   "cell_type": "code",
   "execution_count": 65,
   "metadata": {},
   "outputs": [
    {
     "data": {
      "text/html": [
       "<div>\n",
       "<style scoped>\n",
       "    .dataframe tbody tr th:only-of-type {\n",
       "        vertical-align: middle;\n",
       "    }\n",
       "\n",
       "    .dataframe tbody tr th {\n",
       "        vertical-align: top;\n",
       "    }\n",
       "\n",
       "    .dataframe thead th {\n",
       "        text-align: right;\n",
       "    }\n",
       "</style>\n",
       "<table border=\"1\" class=\"dataframe\">\n",
       "  <thead>\n",
       "    <tr style=\"text-align: right;\">\n",
       "      <th></th>\n",
       "      <th>Artist</th>\n",
       "      <th>Code</th>\n",
       "    </tr>\n",
       "  </thead>\n",
       "  <tbody>\n",
       "    <tr>\n",
       "      <th>0</th>\n",
       "      <td>Run The Jewels</td>\n",
       "      <td>spotify:artist:4RnBFZRiMLRyZy0AzzTg2C</td>\n",
       "    </tr>\n",
       "  </tbody>\n",
       "</table>\n",
       "</div>"
      ],
      "text/plain": [
       "           Artist                                   Code\n",
       "0  Run The Jewels  spotify:artist:4RnBFZRiMLRyZy0AzzTg2C"
      ]
     },
     "execution_count": 65,
     "metadata": {},
     "output_type": "execute_result"
    }
   ],
   "source": [
    "df"
   ]
  },
  {
   "cell_type": "code",
   "execution_count": 54,
   "metadata": {},
   "outputs": [],
   "source": [
    "df = pd.DataFrame(columns=['Playlist', 'Description', 'Code'])\n",
    "for i in range(len(items)):\n",
    "    df.loc[i] = [items[i]['name'], items[i]['description'], items[i]['uri']]"
   ]
  },
  {
   "cell_type": "code",
   "execution_count": 55,
   "metadata": {},
   "outputs": [
    {
     "data": {
      "text/html": [
       "<div>\n",
       "<style scoped>\n",
       "    .dataframe tbody tr th:only-of-type {\n",
       "        vertical-align: middle;\n",
       "    }\n",
       "\n",
       "    .dataframe tbody tr th {\n",
       "        vertical-align: top;\n",
       "    }\n",
       "\n",
       "    .dataframe thead th {\n",
       "        text-align: right;\n",
       "    }\n",
       "</style>\n",
       "<table border=\"1\" class=\"dataframe\">\n",
       "  <thead>\n",
       "    <tr style=\"text-align: right;\">\n",
       "      <th></th>\n",
       "      <th>Playlist</th>\n",
       "      <th>Description</th>\n",
       "      <th>Code</th>\n",
       "    </tr>\n",
       "  </thead>\n",
       "  <tbody>\n",
       "    <tr>\n",
       "      <th>0</th>\n",
       "      <td>Alexaurus Recs</td>\n",
       "      <td></td>\n",
       "      <td>spotify:playlist:51Q6BZUYJOndGoSeWf5IlO</td>\n",
       "    </tr>\n",
       "  </tbody>\n",
       "</table>\n",
       "</div>"
      ],
      "text/plain": [
       "         Playlist Description                                     Code\n",
       "0  Alexaurus Recs              spotify:playlist:51Q6BZUYJOndGoSeWf5IlO"
      ]
     },
     "execution_count": 55,
     "metadata": {},
     "output_type": "execute_result"
    }
   ],
   "source": [
    "df"
   ]
  },
  {
   "cell_type": "code",
   "execution_count": 66,
   "metadata": {},
   "outputs": [
    {
     "data": {
      "text/plain": [
       "[{'external_urls': {'spotify': 'https://open.spotify.com/artist/4RnBFZRiMLRyZy0AzzTg2C'},\n",
       "  'followers': {'href': None, 'total': 844557},\n",
       "  'genres': ['hip hop', 'political hip hop'],\n",
       "  'href': 'https://api.spotify.com/v1/artists/4RnBFZRiMLRyZy0AzzTg2C',\n",
       "  'id': '4RnBFZRiMLRyZy0AzzTg2C',\n",
       "  'images': [{'height': 640,\n",
       "    'url': 'https://i.scdn.co/image/46948c4b3d16f9a42cb16066e46d55a8d8b1c10f',\n",
       "    'width': 640},\n",
       "   {'height': 320,\n",
       "    'url': 'https://i.scdn.co/image/a3bfcfa871baae15d3c804b854f7b435a9410d5e',\n",
       "    'width': 320},\n",
       "   {'height': 160,\n",
       "    'url': 'https://i.scdn.co/image/1326ae2d7a4c50c33aace4948ae3af45d98ed00a',\n",
       "    'width': 160}],\n",
       "  'name': 'Run The Jewels',\n",
       "  'popularity': 70,\n",
       "  'type': 'artist',\n",
       "  'uri': 'spotify:artist:4RnBFZRiMLRyZy0AzzTg2C'}]"
      ]
     },
     "execution_count": 66,
     "metadata": {},
     "output_type": "execute_result"
    }
   ],
   "source": [
    "items"
   ]
  },
  {
   "cell_type": "markdown",
   "metadata": {},
   "source": [
    "## Parse Spotify Link"
   ]
  },
  {
   "cell_type": "code",
   "execution_count": null,
   "metadata": {},
   "outputs": [],
   "source": [
    "test = 'https://open.spotify.com/track/0cG6z63opd1xEcaKaC1CKw?si=on83eDH2Siy6Jbnu8fLMQQ'\n",
    "test2 = 'https://open.spotify.com/track/0cG6z63opd1xEcaKaC1CKw'\n",
    "def parse_spotify_link(link):\n",
    "    if '?' in link:\n",
    "        return link.split('/')[-1].split('?')[0]\n",
    "    else:\n",
    "        return link.split('/')[-1]"
   ]
  },
  {
   "cell_type": "markdown",
   "metadata": {},
   "source": [
    "## Make Spotify Playlist"
   ]
  },
  {
   "cell_type": "code",
   "execution_count": 1,
   "metadata": {},
   "outputs": [],
   "source": [
    "def make_playlist(spotify, playlist_uris, playlist_name):\n",
    "    user = spotify.current_user()['id']\n",
    "    playlist = spotify.user_playlist_create(user=user, name=playlist_name, public=True)\n",
    "    playlist_id = playlist['id']\n",
    "    spotify.user_playlist_add_tracks(user=user,\n",
    "                                     playlist_id=playlist_id,\n",
    "                                     tracks=playlist_uris)"
   ]
  },
  {
   "cell_type": "markdown",
   "metadata": {},
   "source": [
    "## Get Album Art URI"
   ]
  },
  {
   "cell_type": "code",
   "execution_count": 2,
   "metadata": {},
   "outputs": [
    {
     "ename": "NameError",
     "evalue": "name 'sp' is not defined",
     "output_type": "error",
     "traceback": [
      "\u001b[0;31m---------------------------------------------------------------------------\u001b[0m",
      "\u001b[0;31mNameError\u001b[0m                                 Traceback (most recent call last)",
      "\u001b[0;32m<ipython-input-2-052ad0088bc8>\u001b[0m in \u001b[0;36m<module>\u001b[0;34m\u001b[0m\n\u001b[0;32m----> 1\u001b[0;31m \u001b[0muri\u001b[0m \u001b[0;34m=\u001b[0m \u001b[0msp\u001b[0m\u001b[0;34m.\u001b[0m\u001b[0mcurrent_user_playing_track\u001b[0m\u001b[0;34m(\u001b[0m\u001b[0;34m)\u001b[0m\u001b[0;34m[\u001b[0m\u001b[0;34m'item'\u001b[0m\u001b[0;34m]\u001b[0m\u001b[0;34m[\u001b[0m\u001b[0;34m'uri'\u001b[0m\u001b[0;34m]\u001b[0m\u001b[0;34m\u001b[0m\u001b[0;34m\u001b[0m\u001b[0m\n\u001b[0m\u001b[1;32m      2\u001b[0m \u001b[0;32mdef\u001b[0m \u001b[0malbum_art_url\u001b[0m\u001b[0;34m(\u001b[0m\u001b[0mtrack_uri\u001b[0m\u001b[0;34m)\u001b[0m\u001b[0;34m:\u001b[0m\u001b[0;34m\u001b[0m\u001b[0;34m\u001b[0m\u001b[0m\n\u001b[1;32m      3\u001b[0m     '''\n\u001b[1;32m      4\u001b[0m     \u001b[0mRetrieves\u001b[0m \u001b[0malbum\u001b[0m \u001b[0mart\u001b[0m \u001b[0murl\u001b[0m\u001b[0;34m\u001b[0m\u001b[0;34m\u001b[0m\u001b[0m\n\u001b[1;32m      5\u001b[0m \u001b[0;34m\u001b[0m\u001b[0m\n",
      "\u001b[0;31mNameError\u001b[0m: name 'sp' is not defined"
     ]
    }
   ],
   "source": [
    "uri = sp.current_user_playing_track()['item']['uri']\n",
    "def album_art_url(track_uri):\n",
    "    '''\n",
    "    Retrieves album art url\n",
    "    \n",
    "    Parameters:\n",
    "    uri: Spotify track URI\n",
    "    '''\n",
    "    \n",
    "    # Getting track object\n",
    "    track = sp.track(track_uri)\n",
    "    \n",
    "    # Extracting image URL \n",
    "    url = track['album']['images'][0]['url']\n",
    "    \n",
    "    return url\n",
    "\n",
    "album_art_url(uri)"
   ]
  },
  {
   "cell_type": "markdown",
   "metadata": {},
   "source": [
    "# Get Playlist Embeddings"
   ]
  },
  {
   "cell_type": "markdown",
   "metadata": {},
   "source": [
    "Explaination"
   ]
  },
  {
   "cell_type": "code",
   "execution_count": 3,
   "metadata": {},
   "outputs": [],
   "source": [
    "def get_playlist_embeddings(spotify):\n",
    "    '''\n",
    "    Takes in user authentication object and returns HTML embedding codes for user playlists\n",
    "    '''\n",
    "    playlists = spotify.current_user_playlists()\n",
    "    playlist_ids = [playlist['id'] for playlist in playlists['items']]\n",
    "    embed_code = '<iframe src=\"https://open.spotify.com/embed/playlist/####\" width=\"300\" height=\"380\" frameborder=\"0\" allowtransparency=\"true\" allow=\"encrypted-media\"></iframe>'\n",
    "    codes = ' '.join([embed_code.replace('####', playlist_id) for playlist_id in playlist_ids])\n",
    "    return codes"
   ]
  },
  {
   "cell_type": "code",
   "execution_count": 4,
   "metadata": {},
   "outputs": [
    {
     "data": {
      "text/html": [
       "'<iframe src=\"https://open.spotify.com/embed/playlist/2rX148mot1TpEDPbJdrqjs\" width=\"300\" height=\"380\" frameborder=\"0\" allowtransparency=\"true\" allow=\"encrypted-media\"></iframe> <iframe src=\"https://open.spotify.com/embed/playlist/36IMauEyDsOmc6NoJ1ECPM\" width=\"300\" height=\"380\" frameborder=\"0\" allowtransparency=\"true\" allow=\"encrypted-media\"></iframe> <iframe src=\"https://open.spotify.com/embed/playlist/7gX4gtuKBJyZS8qll6W6ud\" width=\"300\" height=\"380\" frameborder=\"0\" allowtransparency=\"true\" allow=\"encrypted-media\"></iframe> <iframe src=\"https://open.spotify.com/embed/playlist/04xlIANGeecMR5UNd8RBic\" width=\"300\" height=\"380\" frameborder=\"0\" allowtransparency=\"true\" allow=\"encrypted-media\"></iframe>'\n"
      ],
      "text/plain": [
       "<IPython.core.display.HTML object>"
      ]
     },
     "metadata": {},
     "output_type": "display_data"
    }
   ],
   "source": [
    "%%html\n",
    "'<iframe src=\"https://open.spotify.com/embed/playlist/2rX148mot1TpEDPbJdrqjs\" width=\"300\" height=\"380\" frameborder=\"0\" allowtransparency=\"true\" allow=\"encrypted-media\"></iframe> <iframe src=\"https://open.spotify.com/embed/playlist/36IMauEyDsOmc6NoJ1ECPM\" width=\"300\" height=\"380\" frameborder=\"0\" allowtransparency=\"true\" allow=\"encrypted-media\"></iframe> <iframe src=\"https://open.spotify.com/embed/playlist/7gX4gtuKBJyZS8qll6W6ud\" width=\"300\" height=\"380\" frameborder=\"0\" allowtransparency=\"true\" allow=\"encrypted-media\"></iframe> <iframe src=\"https://open.spotify.com/embed/playlist/04xlIANGeecMR5UNd8RBic\" width=\"300\" height=\"380\" frameborder=\"0\" allowtransparency=\"true\" allow=\"encrypted-media\"></iframe>'"
   ]
  },
  {
   "cell_type": "code",
   "execution_count": 2,
   "metadata": {},
   "outputs": [],
   "source": [
    "def show_album_art(track_uri):\n",
    "    '''\n",
    "    Retrieves and displays album art for a given track on Spotify\n",
    "    \n",
    "    Parameters:\n",
    "    uri: Spotify track URI\n",
    "    '''\n",
    "    \n",
    "    # Getting track object\n",
    "    track = sp.track(track_uri)\n",
    "    \n",
    "    # Extracting image URL \n",
    "    url = track['album']['images'][0]['url']\n",
    "    \n",
    "    # Creating file object\n",
    "    f = urllib.request.urlopen(url)\n",
    "    \n",
    "    # Creating an matplotlib image read object specifying jpg format\n",
    "    a = plt.imread(f, format='jpg')\n",
    "    \n",
    "    # Turning off axis\n",
    "    plt.axis(False)\n",
    "    \n",
    "    # Showing image\n",
    "    plt.imshow(a);\n",
    "    return url"
   ]
  },
  {
   "cell_type": "code",
   "execution_count": 3,
   "metadata": {},
   "outputs": [],
   "source": [
    "def spotify_uri_search(search, type='album', limit=10):\n",
    "    '''\n",
    "    Search for a Spotify track, album, playlist, show or episode URI. \n",
    "    \n",
    "    Parameters:\n",
    "    search: search string\n",
    "    \n",
    "    type: type of uri. Choose from track, album, playlist, show or episode URI. \n",
    "    \n",
    "    limit: integer limit to return. 0-50\n",
    "    '''\n",
    "    # Creating empty results list and results dictionary\n",
    "    if limit > 50 or limit < 1:\n",
    "        raise TypeError('Limit needs to be an integer between 1-50')\n",
    "    results = []\n",
    "    res_dict = {}\n",
    "\n",
    "     # Replacing spaces with + \n",
    "    q = search.replace(' ', '+')\n",
    "\n",
    "    # Creating search object\n",
    "    res = sp.search(q=q, limit=limit, type=type,)\n",
    "\n",
    "    # Selecting all of the tracks in search object\n",
    "    tracks = res[type+'s']['items']\n",
    "    \n",
    "    # Iterating through tracks or albums \n",
    "    for item in tracks:\n",
    "        # Creating result dictionary entry\n",
    "        res_dict[item['name']] = item['uri']\n",
    "        \n",
    "        # Adding name of track or album along with the artists to results\n",
    "        results.append(item['name'] + ' BY ' + item['artists'][0]['name'])\n",
    "    \n",
    "    # Printing results for user to decide which album\n",
    "    for i in range(len(results)):\n",
    "        print(f'{i}: {type}: {results[i]}')\n",
    "        \n",
    "    # Requesting user input for correct choice\n",
    "    response = input('Please select a valid index')\n",
    "    \n",
    "    # Selecting appropriate Spotify URI\n",
    "    uri = res_dict.get(results[int(response)].split(' BY ')[0])\n",
    "    \n",
    "    return uri"
   ]
  },
  {
   "cell_type": "code",
   "execution_count": null,
   "metadata": {},
   "outputs": [],
   "source": [
    "res = spotify_uri_search('cheese', type='track', limit=30)"
   ]
  },
  {
   "cell_type": "code",
   "execution_count": null,
   "metadata": {},
   "outputs": [],
   "source": []
  },
  {
   "cell_type": "code",
   "execution_count": null,
   "metadata": {},
   "outputs": [],
   "source": []
  },
  {
   "cell_type": "markdown",
   "metadata": {},
   "source": [
    "# Top Tracks\n"
   ]
  },
  {
   "cell_type": "code",
   "execution_count": 2,
   "metadata": {},
   "outputs": [],
   "source": [
    "import spotipy\n",
    "from spotipy import util\n",
    "from spotipy.oauth2 import SpotifyClientCredentials, SpotifyOAuth\n",
    "import pandas as pd\n",
    "import matplotlib.pyplot as plt\n",
    "import urllib\n",
    "\n",
    "## REMOVE CLIENT_ID AND CLIENT_SECRET BEFORE PUSHING ##\n",
    "\n",
    "#CLIENT_ID\n",
    "#CLIENT_SECRET\n",
    "USERNAME = 'elw86ve5g5t944wwlef6qyzu3' # Alex Fioto's user id\n",
    "SCOPE = 'playlist-modify-public user-top-read'\n",
    "LOCAL_REDIRECT_URI = 'http://127.0.0.1:8080'\n",
    "REDIRECT_URI = 'https://alexaurusrecs.herokuapp.com/'\n",
    "\n",
    "# Requesting access token\n",
    "token = util.prompt_for_user_token(username=USERNAME,\n",
    "                                   scope=SCOPE,\n",
    "                                   client_id=CLIENT_ID,\n",
    "                                   client_secret=CLIENT_SECRET,\n",
    "                                   redirect_uri=LOCAL_REDIRECT_URI) \n",
    "# Instantiating OAuth object\n",
    "spotify = spotipy.Spotify(auth=token)"
   ]
  },
  {
   "cell_type": "code",
   "execution_count": 3,
   "metadata": {},
   "outputs": [],
   "source": [
    "def user_tracks_dataframe(spotify, limit=10):\n",
    "    terms = ['short_term', 'medium_term', 'long_term']\n",
    "    df_list = []\n",
    "    for term in terms:\n",
    "        tracks = spotify.current_user_top_tracks(limit=limit, time_range=term)\n",
    "        track_names = [track['name'] for track in tracks['items']]\n",
    "        artist_list = []\n",
    "        for track in tracks['items']:\n",
    "            artists = ', '.join([artist['name'] for artist in track['artists']])\n",
    "            artist_list.append(artists)\n",
    "        df = pd.DataFrame(list(zip(track_names, artist_list)), \n",
    "                          columns = ['track_name', 'artist_name'])\n",
    "        df['time_range'] = term\n",
    "        df_list.append(df)\n",
    "    df = pd.concat(df_list)\n",
    "    df.reset_index(inplace=True, drop=True)\n",
    "    return df"
   ]
  },
  {
   "cell_type": "code",
   "execution_count": 4,
   "metadata": {},
   "outputs": [],
   "source": [
    "df = user_tracks_dataframe(spotify, limit=10)"
   ]
  },
  {
   "cell_type": "code",
   "execution_count": 5,
   "metadata": {},
   "outputs": [
    {
     "data": {
      "text/plain": [
       "{'track_name': {0: 'Blockbuster Night, Pt. 1',\n",
       "  1: 'WWIII',\n",
       "  2: 'Down (feat. Joi)',\n",
       "  3: 'Talk to Me',\n",
       "  4: 'Blood // Water',\n",
       "  5: 'Oh Mama',\n",
       "  6: 'Riptide',\n",
       "  7: 'Call Ticketron',\n",
       "  8: 'Popular Monster',\n",
       "  9: 'I Will Be Heard',\n",
       "  10: 'Blockbuster Night, Pt. 1',\n",
       "  11: 'When I Grow Up',\n",
       "  12: 'The Dark',\n",
       "  13: 'No Excuses',\n",
       "  14: 'Nate',\n",
       "  15: 'Returns',\n",
       "  16: 'PAID MY DUES',\n",
       "  17: 'The Search',\n",
       "  18: 'Leave Me Alone',\n",
       "  19: 'Blood // Water',\n",
       "  20: 'Blockbuster Night, Pt. 1',\n",
       "  21: 'When I Grow Up',\n",
       "  22: 'The Dark',\n",
       "  23: 'No Excuses',\n",
       "  24: 'Nate',\n",
       "  25: 'Returns',\n",
       "  26: 'PAID MY DUES',\n",
       "  27: 'The Search',\n",
       "  28: 'Leave Me Alone',\n",
       "  29: 'Blood // Water'},\n",
       " 'artist_name': {0: 'Run The Jewels',\n",
       "  1: 'grandson',\n",
       "  2: 'Run The Jewels, Joi',\n",
       "  3: 'Run The Jewels',\n",
       "  4: 'grandson',\n",
       "  5: 'Run The Jewels',\n",
       "  6: 'grandson',\n",
       "  7: 'Run The Jewels',\n",
       "  8: 'Falling In Reverse',\n",
       "  9: 'Hatebreed',\n",
       "  10: 'Run The Jewels',\n",
       "  11: 'NF',\n",
       "  12: 'LRKR',\n",
       "  13: 'NF',\n",
       "  14: 'NF',\n",
       "  15: 'NF',\n",
       "  16: 'NF',\n",
       "  17: 'NF',\n",
       "  18: 'NF',\n",
       "  19: 'grandson',\n",
       "  20: 'Run The Jewels',\n",
       "  21: 'NF',\n",
       "  22: 'LRKR',\n",
       "  23: 'NF',\n",
       "  24: 'NF',\n",
       "  25: 'NF',\n",
       "  26: 'NF',\n",
       "  27: 'NF',\n",
       "  28: 'NF',\n",
       "  29: 'grandson'},\n",
       " 'time_range': {0: 'short_term',\n",
       "  1: 'short_term',\n",
       "  2: 'short_term',\n",
       "  3: 'short_term',\n",
       "  4: 'short_term',\n",
       "  5: 'short_term',\n",
       "  6: 'short_term',\n",
       "  7: 'short_term',\n",
       "  8: 'short_term',\n",
       "  9: 'short_term',\n",
       "  10: 'medium_term',\n",
       "  11: 'medium_term',\n",
       "  12: 'medium_term',\n",
       "  13: 'medium_term',\n",
       "  14: 'medium_term',\n",
       "  15: 'medium_term',\n",
       "  16: 'medium_term',\n",
       "  17: 'medium_term',\n",
       "  18: 'medium_term',\n",
       "  19: 'medium_term',\n",
       "  20: 'long_term',\n",
       "  21: 'long_term',\n",
       "  22: 'long_term',\n",
       "  23: 'long_term',\n",
       "  24: 'long_term',\n",
       "  25: 'long_term',\n",
       "  26: 'long_term',\n",
       "  27: 'long_term',\n",
       "  28: 'long_term',\n",
       "  29: 'long_term'}}"
      ]
     },
     "execution_count": 5,
     "metadata": {},
     "output_type": "execute_result"
    }
   ],
   "source": [
    "track_dict = df.to_dict()\n",
    "track_dict"
   ]
  },
  {
   "cell_type": "code",
   "execution_count": 29,
   "metadata": {},
   "outputs": [
    {
     "name": "stdout",
     "output_type": "stream",
     "text": [
      "track_name {0: 'Blockbuster Night, Pt. 1', 1: 'Talk to Me', 2: 'WWIII', 3: 'Down (feat. Joi)', 4: 'Oh Mama', 5: 'Riptide', 6: 'Popular Monster', 7: 'Blood // Water', 8: 'I Will Be Heard', 9: 'yankee and the brave (ep. 4)', 10: 'Blockbuster Night, Pt. 1', 11: 'When I Grow Up', 12: 'The Dark', 13: 'No Excuses', 14: 'Nate', 15: 'Returns', 16: 'PAID MY DUES', 17: 'The Search', 18: 'Leave Me Alone', 19: 'The Visitor', 20: 'Blockbuster Night, Pt. 1', 21: 'When I Grow Up', 22: 'The Dark', 23: 'No Excuses', 24: 'Nate', 25: 'Returns', 26: 'PAID MY DUES', 27: 'The Search', 28: 'Leave Me Alone', 29: 'The Visitor'}\n",
      "artist_name {0: 'Run The Jewels', 1: 'Run The Jewels', 2: 'grandson', 3: 'Run The Jewels, Joi', 4: 'Run The Jewels', 5: 'grandson', 6: 'Falling In Reverse', 7: 'grandson', 8: 'Hatebreed', 9: 'Run The Jewels', 10: 'Run The Jewels', 11: 'NF', 12: 'LRKR', 13: 'NF', 14: 'NF', 15: 'NF', 16: 'NF', 17: 'NF', 18: 'NF', 19: 'Mad Zach', 20: 'Run The Jewels', 21: 'NF', 22: 'LRKR', 23: 'NF', 24: 'NF', 25: 'NF', 26: 'NF', 27: 'NF', 28: 'NF', 29: 'Mad Zach'}\n",
      "time_range {0: 'short_term', 1: 'short_term', 2: 'short_term', 3: 'short_term', 4: 'short_term', 5: 'short_term', 6: 'short_term', 7: 'short_term', 8: 'short_term', 9: 'short_term', 10: 'medium_term', 11: 'medium_term', 12: 'medium_term', 13: 'medium_term', 14: 'medium_term', 15: 'medium_term', 16: 'medium_term', 17: 'medium_term', 18: 'medium_term', 19: 'medium_term', 20: 'long_term', 21: 'long_term', 22: 'long_term', 23: 'long_term', 24: 'long_term', 25: 'long_term', 26: 'long_term', 27: 'long_term', 28: 'long_term', 29: 'long_term'}\n"
     ]
    }
   ],
   "source": [
    "for key, item in track_dict.items():\n",
    "    print(key, item)"
   ]
  },
  {
   "cell_type": "code",
   "execution_count": 31,
   "metadata": {},
   "outputs": [
    {
     "ename": "AttributeError",
     "evalue": "'dict' object has no attribute 'iterrows'",
     "output_type": "error",
     "traceback": [
      "\u001b[0;31m---------------------------------------------------------------------------\u001b[0m",
      "\u001b[0;31mAttributeError\u001b[0m                            Traceback (most recent call last)",
      "\u001b[0;32m<ipython-input-31-383c407762b5>\u001b[0m in \u001b[0;36m<module>\u001b[0;34m\u001b[0m\n\u001b[0;32m----> 1\u001b[0;31m \u001b[0;32mfor\u001b[0m \u001b[0mkey\u001b[0m\u001b[0;34m,\u001b[0m \u001b[0mvalue\u001b[0m \u001b[0;32min\u001b[0m \u001b[0mtrack_dict\u001b[0m\u001b[0;34m.\u001b[0m\u001b[0miterrows\u001b[0m\u001b[0;34m(\u001b[0m\u001b[0;34m)\u001b[0m\u001b[0;34m:\u001b[0m\u001b[0;34m\u001b[0m\u001b[0;34m\u001b[0m\u001b[0m\n\u001b[0m\u001b[1;32m      2\u001b[0m     \u001b[0mprint\u001b[0m\u001b[0;34m(\u001b[0m\u001b[0mvalue\u001b[0m\u001b[0;34m[\u001b[0m\u001b[0;34m'track_name'\u001b[0m\u001b[0;34m]\u001b[0m\u001b[0;34m)\u001b[0m\u001b[0;34m\u001b[0m\u001b[0;34m\u001b[0m\u001b[0m\n",
      "\u001b[0;31mAttributeError\u001b[0m: 'dict' object has no attribute 'iterrows'"
     ]
    }
   ],
   "source": [
    "for key, value in track_dict.iterrows():\n",
    "    print(value['track_name'])"
   ]
  },
  {
   "cell_type": "code",
   "execution_count": 34,
   "metadata": {},
   "outputs": [
    {
     "name": "stdout",
     "output_type": "stream",
     "text": [
      "0 Blockbuster Night, Pt. 1\n",
      "1 Talk to Me\n",
      "2 WWIII\n",
      "3 Down (feat. Joi)\n",
      "4 Oh Mama\n",
      "5 Riptide\n",
      "6 Popular Monster\n",
      "7 Blood // Water\n",
      "8 I Will Be Heard\n",
      "9 yankee and the brave (ep. 4)\n",
      "10 Blockbuster Night, Pt. 1\n",
      "11 When I Grow Up\n",
      "12 The Dark\n",
      "13 No Excuses\n",
      "14 Nate\n",
      "15 Returns\n",
      "16 PAID MY DUES\n",
      "17 The Search\n",
      "18 Leave Me Alone\n",
      "19 The Visitor\n",
      "20 Blockbuster Night, Pt. 1\n",
      "21 When I Grow Up\n",
      "22 The Dark\n",
      "23 No Excuses\n",
      "24 Nate\n",
      "25 Returns\n",
      "26 PAID MY DUES\n",
      "27 The Search\n",
      "28 Leave Me Alone\n",
      "29 The Visitor\n"
     ]
    }
   ],
   "source": [
    "for key, value in df.iterrows():\n",
    "    print(key, value['track_name'])"
   ]
  },
  {
   "cell_type": "code",
   "execution_count": 37,
   "metadata": {},
   "outputs": [
    {
     "name": "stdout",
     "output_type": "stream",
     "text": [
      "Track Name\n",
      "Artist Name\n",
      "Time Range\n"
     ]
    }
   ],
   "source": [
    "for column in df.columns:\n",
    "    print(column.replace('_', ' ').title())"
   ]
  },
  {
   "cell_type": "code",
   "execution_count": null,
   "metadata": {},
   "outputs": [],
   "source": []
  }
 ],
 "metadata": {
  "kernelspec": {
   "display_name": "Python 3",
   "language": "python",
   "name": "python3"
  },
  "language_info": {
   "codemirror_mode": {
    "name": "ipython",
    "version": 3
   },
   "file_extension": ".py",
   "mimetype": "text/x-python",
   "name": "python",
   "nbconvert_exporter": "python",
   "pygments_lexer": "ipython3",
   "version": "3.7.7"
  }
 },
 "nbformat": 4,
 "nbformat_minor": 4
}
