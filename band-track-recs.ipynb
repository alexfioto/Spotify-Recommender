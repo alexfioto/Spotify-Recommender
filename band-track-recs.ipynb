{
 "cells": [
  {
   "cell_type": "code",
   "execution_count": 437,
   "metadata": {},
   "outputs": [],
   "source": [
    "import spotipy\n",
    "from spotipy import util\n",
    "from spotipy.oauth2 import SpotifyClientCredentials, SpotifyOAuth\n",
    "import pandas as pd\n",
    "import matplotlib.pyplot as plt\n",
    "import urllib\n",
    "\n",
    "## REMOVE BEFORE PUSHING ##\n",
    "CLIENT_ID=\n",
    "CLIENT_SECRET=\n",
    "\n",
    "\n",
    "\n",
    "username = 'elw86ve5g5t944wwlef6qyzu3' # Alex Fioto's user id\n",
    "modify_playlist = 'playlist-modify-public'\n",
    "user_auth = 'user-top-read'\n",
    "redirect_uri = 'http://127.0.0.1:8080'\n",
    "\n",
    "token = util.prompt_for_user_token(username=username,\n",
    "                                   scope=modify_playlist + ' ' + user_auth,\n",
    "                                   client_id=CLIENT_ID,\n",
    "                                   client_secret=CLIENT_SECRET,\n",
    "                                   redirect_uri=redirect_uri) \n",
    "\n",
    "sp = spotipy.Spotify(auth=token)\n"
   ]
  },
  {
   "cell_type": "code",
   "execution_count": 438,
   "metadata": {},
   "outputs": [],
   "source": [
    "logslaught = 'spotify:artist:1I471vwcRhqQl6QonGZlen'\n",
    "grandson = 'spotify:artist:4ZgQDCtRqZlhLswVS6MHN4'\n",
    "run_the_jewels = 'spotify:artist:4RnBFZRiMLRyZy0AzzTg2C'\n",
    "hatebreed = 'spotify:artist:17Mb968quDHpjCkIyq30QV'"
   ]
  },
  {
   "cell_type": "code",
   "execution_count": 439,
   "metadata": {},
   "outputs": [],
   "source": [
    "def get_artist_tracks(sp, artists, n_albums=100,):\n",
    "    '''\n",
    "    Function takes in the Spotify URI of one or more artists and returns a Pandas dataframe with Spotify's proprietary audio features.\n",
    "    \n",
    "    n_albums: number of albums to fetch per artist\n",
    "    '''\n",
    "    \n",
    "    uris = []\n",
    "    album_uris = []\n",
    "    df_list = []\n",
    "    \n",
    "    # Checking if user input artists as a list. \n",
    "    if type(artists) != list:\n",
    "        # Rectifying if user did not input list\n",
    "        artists = [artists]\n",
    "    \n",
    "    for artist in artists:\n",
    "        albums = sp.artist_albums(artist)\n",
    "        for album in albums['items']:\n",
    "            album_uris.append(album['uri'])\n",
    "    \n",
    "    for uri in album_uris:\n",
    "        album = sp.album(uri)\n",
    "        album_name = album['name']\n",
    "        \n",
    "        album_artist = ', '.join([artist['name'] for artist in album['artists']])\n",
    "        \n",
    "        tracks = sp.album_tracks(uri)\n",
    "        audio_features_dict = sp.audio_features()\n",
    "        df = pd.DataFrame.from_dict(tracks['items'])\n",
    "        audio_features_df = pd.DataFrame.from_dict(sp.audio_features(list(df['uri'])))\n",
    "        audio_features_df['track_name'] = df['name']\n",
    "        audio_features_df['album_name'] = album_name\n",
    "        audio_features_df['artist_name'] = album_artist\n",
    "        df_list.append(audio_features_df)\n",
    "    \n",
    "    df = pd.concat(df_list)\n",
    "    df.reset_index(inplace=True, drop=True)\n",
    "    df.drop_duplicates()\n",
    "    return df"
   ]
  },
  {
   "cell_type": "code",
   "execution_count": 440,
   "metadata": {},
   "outputs": [],
   "source": [
    "def get_user_tracks(sp, limit=10, time_range='medium_term'):\n",
    "    user_tracks = sp.current_user_top_tracks(limit=limit, time_range=time_range)\n",
    "    audio_features =  sp.audio_features([item['uri'] for item in user_tracks['items']])\n",
    "    names = [item['name'] for item in user_tracks['items']]\n",
    "    df = pd.DataFrame.from_dict(audio_features)\n",
    "    df['track_name'] = names\n",
    "    return df"
   ]
  },
  {
   "cell_type": "code",
   "execution_count": 441,
   "metadata": {},
   "outputs": [],
   "source": [
    "user_df = get_user_tracks(sp = sp)"
   ]
  },
  {
   "cell_type": "code",
   "execution_count": 442,
   "metadata": {},
   "outputs": [
    {
     "data": {
      "text/html": [
       "<div>\n",
       "<style scoped>\n",
       "    .dataframe tbody tr th:only-of-type {\n",
       "        vertical-align: middle;\n",
       "    }\n",
       "\n",
       "    .dataframe tbody tr th {\n",
       "        vertical-align: top;\n",
       "    }\n",
       "\n",
       "    .dataframe thead th {\n",
       "        text-align: right;\n",
       "    }\n",
       "</style>\n",
       "<table border=\"1\" class=\"dataframe\">\n",
       "  <thead>\n",
       "    <tr style=\"text-align: right;\">\n",
       "      <th></th>\n",
       "      <th>danceability</th>\n",
       "      <th>energy</th>\n",
       "      <th>key</th>\n",
       "      <th>loudness</th>\n",
       "      <th>mode</th>\n",
       "      <th>speechiness</th>\n",
       "      <th>acousticness</th>\n",
       "      <th>instrumentalness</th>\n",
       "      <th>liveness</th>\n",
       "      <th>valence</th>\n",
       "      <th>tempo</th>\n",
       "      <th>type</th>\n",
       "      <th>id</th>\n",
       "      <th>uri</th>\n",
       "      <th>track_href</th>\n",
       "      <th>analysis_url</th>\n",
       "      <th>duration_ms</th>\n",
       "      <th>time_signature</th>\n",
       "      <th>track_name</th>\n",
       "    </tr>\n",
       "  </thead>\n",
       "  <tbody>\n",
       "    <tr>\n",
       "      <th>0</th>\n",
       "      <td>0.817</td>\n",
       "      <td>0.814</td>\n",
       "      <td>2</td>\n",
       "      <td>-3.985</td>\n",
       "      <td>1</td>\n",
       "      <td>0.185</td>\n",
       "      <td>0.3200</td>\n",
       "      <td>0.00000000</td>\n",
       "      <td>0.1520</td>\n",
       "      <td>0.247</td>\n",
       "      <td>109.994</td>\n",
       "      <td>audio_features</td>\n",
       "      <td>5rLyYxZNzca00ENADO9m54</td>\n",
       "      <td>spotify:track:5rLyYxZNzca00ENADO9m54</td>\n",
       "      <td>https://api.spotify.com/v1/tracks/5rLyYxZNzca0...</td>\n",
       "      <td>https://api.spotify.com/v1/audio-analysis/5rLy...</td>\n",
       "      <td>196800</td>\n",
       "      <td>4</td>\n",
       "      <td>When I Grow Up</td>\n",
       "    </tr>\n",
       "    <tr>\n",
       "      <th>1</th>\n",
       "      <td>0.701</td>\n",
       "      <td>0.525</td>\n",
       "      <td>1</td>\n",
       "      <td>-7.938</td>\n",
       "      <td>0</td>\n",
       "      <td>0.382</td>\n",
       "      <td>0.0353</td>\n",
       "      <td>0.00000255</td>\n",
       "      <td>0.0615</td>\n",
       "      <td>0.385</td>\n",
       "      <td>75.693</td>\n",
       "      <td>audio_features</td>\n",
       "      <td>5jQYkYhoOlBW4vJ2l4TCxl</td>\n",
       "      <td>spotify:track:5jQYkYhoOlBW4vJ2l4TCxl</td>\n",
       "      <td>https://api.spotify.com/v1/tracks/5jQYkYhoOlBW...</td>\n",
       "      <td>https://api.spotify.com/v1/audio-analysis/5jQY...</td>\n",
       "      <td>152253</td>\n",
       "      <td>4</td>\n",
       "      <td>Blockbuster Night, Pt. 1</td>\n",
       "    </tr>\n",
       "  </tbody>\n",
       "</table>\n",
       "</div>"
      ],
      "text/plain": [
       "   danceability  energy  key  loudness  mode  speechiness  acousticness  \\\n",
       "0         0.817   0.814    2    -3.985     1        0.185        0.3200   \n",
       "1         0.701   0.525    1    -7.938     0        0.382        0.0353   \n",
       "\n",
       "   instrumentalness  liveness  valence    tempo            type  \\\n",
       "0        0.00000000    0.1520    0.247  109.994  audio_features   \n",
       "1        0.00000255    0.0615    0.385   75.693  audio_features   \n",
       "\n",
       "                       id                                   uri  \\\n",
       "0  5rLyYxZNzca00ENADO9m54  spotify:track:5rLyYxZNzca00ENADO9m54   \n",
       "1  5jQYkYhoOlBW4vJ2l4TCxl  spotify:track:5jQYkYhoOlBW4vJ2l4TCxl   \n",
       "\n",
       "                                          track_href  \\\n",
       "0  https://api.spotify.com/v1/tracks/5rLyYxZNzca0...   \n",
       "1  https://api.spotify.com/v1/tracks/5jQYkYhoOlBW...   \n",
       "\n",
       "                                        analysis_url  duration_ms  \\\n",
       "0  https://api.spotify.com/v1/audio-analysis/5rLy...       196800   \n",
       "1  https://api.spotify.com/v1/audio-analysis/5jQY...       152253   \n",
       "\n",
       "   time_signature                track_name  \n",
       "0               4            When I Grow Up  \n",
       "1               4  Blockbuster Night, Pt. 1  "
      ]
     },
     "execution_count": 442,
     "metadata": {},
     "output_type": "execute_result"
    }
   ],
   "source": [
    "user_df.head(2)"
   ]
  },
  {
   "cell_type": "code",
   "execution_count": 443,
   "metadata": {},
   "outputs": [],
   "source": [
    "tracks = sp.current_user_top_tracks()"
   ]
  },
  {
   "cell_type": "code",
   "execution_count": 444,
   "metadata": {},
   "outputs": [
    {
     "data": {
      "text/plain": [
       "[{'external_urls': {'spotify': 'https://open.spotify.com/artist/6fOMl44jA4Sp5b9PpYCkzz'},\n",
       "  'href': 'https://api.spotify.com/v1/artists/6fOMl44jA4Sp5b9PpYCkzz',\n",
       "  'id': '6fOMl44jA4Sp5b9PpYCkzz',\n",
       "  'name': 'NF',\n",
       "  'type': 'artist',\n",
       "  'uri': 'spotify:artist:6fOMl44jA4Sp5b9PpYCkzz'}]"
      ]
     },
     "execution_count": 444,
     "metadata": {},
     "output_type": "execute_result"
    }
   ],
   "source": [
    "tracks['items'][0]['artists']"
   ]
  },
  {
   "cell_type": "code",
   "execution_count": 445,
   "metadata": {},
   "outputs": [],
   "source": [
    "def user_tracks_dataframe(spotify, limit=10):\n",
    "    '''\n",
    "    This function takes in a spotify user authenication object and a limit of songs.\n",
    "    Return a pandas data frame with users top tracks (names and artists) \n",
    "    within short, medium and long-term time-ranges\n",
    "\n",
    "    '''\n",
    "    terms = ['short_term', 'medium_term', 'long_term']\n",
    "    df_list = []\n",
    "    for term in terms:\n",
    "        tracks = spotify.current_user_top_tracks(limit=limit, time_range=term)\n",
    "        track_names = [track['name'] for track in tracks['items']]\n",
    "        artist_list = []\n",
    "        for track in tracks['items']:\n",
    "            artists = ', '.join([artist['name'] for artist in track['artists']])\n",
    "            artist_list.append(artists)\n",
    "        df = pd.DataFrame(list(zip(track_names, artist_list)), \n",
    "                          columns = ['track_name', 'artist_name'])\n",
    "        df['time_range'] = term\n",
    "        df_list.append(df)\n",
    "    df = pd.concat(df_list)\n",
    "    df.reset_index(inplace=True, drop=True)\n",
    "    return df\n",
    "        "
   ]
  },
  {
   "cell_type": "code",
   "execution_count": 446,
   "metadata": {},
   "outputs": [],
   "source": [
    "def get_playlist_embeddings(spotify):\n",
    "    '''\n",
    "    Takes in user authentication object and returns HTML embedding codes for user playlists\n",
    "    '''\n",
    "    playlists = spotify.current_user_playlists()\n",
    "    playlist_ids = [playlist['id'] for playlist in playlists['items']]\n",
    "    embed_code = '<iframe src=\"https://open.spotify.com/embed/playlist/####\" width=\"300\" height=\"380\" frameborder=\"0\" allowtransparency=\"true\" allow=\"encrypted-media\"></iframe>'\n",
    "    codes = ' '.join([embed_code.replace('####', playlist_id) for playlist_id in playlist_ids])\n",
    "    return codes"
   ]
  },
  {
   "cell_type": "code",
   "execution_count": null,
   "metadata": {},
   "outputs": [],
   "source": []
  },
  {
   "cell_type": "code",
   "execution_count": 431,
   "metadata": {},
   "outputs": [
    {
     "data": {
      "text/html": [
       "'<iframe src=\"https://open.spotify.com/embed/playlist/2rX148mot1TpEDPbJdrqjs\" width=\"300\" height=\"380\" frameborder=\"0\" allowtransparency=\"true\" allow=\"encrypted-media\"></iframe> <iframe src=\"https://open.spotify.com/embed/playlist/36IMauEyDsOmc6NoJ1ECPM\" width=\"300\" height=\"380\" frameborder=\"0\" allowtransparency=\"true\" allow=\"encrypted-media\"></iframe> <iframe src=\"https://open.spotify.com/embed/playlist/7gX4gtuKBJyZS8qll6W6ud\" width=\"300\" height=\"380\" frameborder=\"0\" allowtransparency=\"true\" allow=\"encrypted-media\"></iframe> <iframe src=\"https://open.spotify.com/embed/playlist/04xlIANGeecMR5UNd8RBic\" width=\"300\" height=\"380\" frameborder=\"0\" allowtransparency=\"true\" allow=\"encrypted-media\"></iframe>'\n"
      ],
      "text/plain": [
       "<IPython.core.display.HTML object>"
      ]
     },
     "metadata": {},
     "output_type": "display_data"
    }
   ],
   "source": [
    "%%html\n",
    "'<iframe src=\"https://open.spotify.com/embed/playlist/2rX148mot1TpEDPbJdrqjs\" width=\"300\" height=\"380\" frameborder=\"0\" allowtransparency=\"true\" allow=\"encrypted-media\"></iframe> <iframe src=\"https://open.spotify.com/embed/playlist/36IMauEyDsOmc6NoJ1ECPM\" width=\"300\" height=\"380\" frameborder=\"0\" allowtransparency=\"true\" allow=\"encrypted-media\"></iframe> <iframe src=\"https://open.spotify.com/embed/playlist/7gX4gtuKBJyZS8qll6W6ud\" width=\"300\" height=\"380\" frameborder=\"0\" allowtransparency=\"true\" allow=\"encrypted-media\"></iframe> <iframe src=\"https://open.spotify.com/embed/playlist/04xlIANGeecMR5UNd8RBic\" width=\"300\" height=\"380\" frameborder=\"0\" allowtransparency=\"true\" allow=\"encrypted-media\"></iframe>'"
   ]
  },
  {
   "cell_type": "code",
   "execution_count": 212,
   "metadata": {},
   "outputs": [],
   "source": [
    "from sklearn.metrics.pairwise import pairwise_distances, cosine_distances, cosine_similarity\n",
    "pd.set_option(\"display.precision\", 14)"
   ]
  },
  {
   "cell_type": "code",
   "execution_count": 447,
   "metadata": {},
   "outputs": [],
   "source": [
    "def compare_songs(artist_df, user_df):\n",
    "    '''\n",
    "    Takes in a dataframe of artist tracks and audio feautes, and a dataframe of user top tracks. \n",
    "    Returns tracks in artist_df that are most alligned with user tracks.\n",
    "    '''\n",
    "    \n",
    "    band_track_names = artist_df['track_name']\n",
    "    user_track_names = user_df['track_name']\n",
    "    \n",
    "    df_numeric = artist_df.loc[:, artist_df.columns[:11]]\n",
    "    user_df_numeric = user_df.loc[:, user_df.columns[:11]]\n",
    "    \n",
    "    recs = pairwise_distances(df_numeric, user_df_numeric, metric='cosine')\n",
    "    rec_df = pd.DataFrame(recs, columns=user_track_names, index=band_track_names)    \n",
    "    rec_df = 1 - rec_df\n",
    "    rec_df.drop_duplicates(inplace=True)\n",
    "    \n",
    "    song_list = []\n",
    "    \n",
    "    for user_track in rec_df.columns:\n",
    "        max_cosine = rec_df[user_track].max()\n",
    "        song_name = rec_df[rec_df[user_track] == max_cosine].index[0]\n",
    "        song_uri = list(artist_df.loc[artist_df['track_name'] == song_name, 'uri'])[0]\n",
    "        #print(f'{user_track}------ closest to ---------> {song_name}')\n",
    "        song_list.append((song_name, song_uri))\n",
    "        \n",
    "    uri_list = []\n",
    "    [uri_list.append(track[1]) for track in song_list if track[1] not in uri_list]\n",
    "    \n",
    "    return uri_list"
   ]
  },
  {
   "cell_type": "markdown",
   "metadata": {},
   "source": [
    "# Test out Functions!\n",
    "get_artist_tracks\n",
    "get_user_tracks\n",
    "compare_songs"
   ]
  },
  {
   "cell_type": "code",
   "execution_count": 448,
   "metadata": {},
   "outputs": [],
   "source": [
    "glass_animals = 'spotify:artist:4yvcSjfu4PC0CYQyLy4wSq'"
   ]
  },
  {
   "cell_type": "code",
   "execution_count": 449,
   "metadata": {},
   "outputs": [],
   "source": [
    "artist_tracks = get_artist_tracks(sp, artists = glass_animals )\n",
    "user_tracks = get_user_tracks(sp, limit=2, time_range='long_term')"
   ]
  },
  {
   "cell_type": "code",
   "execution_count": 352,
   "metadata": {},
   "outputs": [
    {
     "data": {
      "text/html": [
       "<div>\n",
       "<style scoped>\n",
       "    .dataframe tbody tr th:only-of-type {\n",
       "        vertical-align: middle;\n",
       "    }\n",
       "\n",
       "    .dataframe tbody tr th {\n",
       "        vertical-align: top;\n",
       "    }\n",
       "\n",
       "    .dataframe thead th {\n",
       "        text-align: right;\n",
       "    }\n",
       "</style>\n",
       "<table border=\"1\" class=\"dataframe\">\n",
       "  <thead>\n",
       "    <tr style=\"text-align: right;\">\n",
       "      <th></th>\n",
       "      <th>danceability</th>\n",
       "      <th>energy</th>\n",
       "      <th>key</th>\n",
       "      <th>loudness</th>\n",
       "      <th>mode</th>\n",
       "      <th>speechiness</th>\n",
       "      <th>acousticness</th>\n",
       "      <th>instrumentalness</th>\n",
       "      <th>liveness</th>\n",
       "      <th>valence</th>\n",
       "      <th>...</th>\n",
       "      <th>type</th>\n",
       "      <th>id</th>\n",
       "      <th>uri</th>\n",
       "      <th>track_href</th>\n",
       "      <th>analysis_url</th>\n",
       "      <th>duration_ms</th>\n",
       "      <th>time_signature</th>\n",
       "      <th>track_name</th>\n",
       "      <th>album_name</th>\n",
       "      <th>artist_name</th>\n",
       "    </tr>\n",
       "  </thead>\n",
       "  <tbody>\n",
       "    <tr>\n",
       "      <th>0</th>\n",
       "      <td>0.253</td>\n",
       "      <td>0.352</td>\n",
       "      <td>8</td>\n",
       "      <td>-11.509</td>\n",
       "      <td>1</td>\n",
       "      <td>0.0357</td>\n",
       "      <td>0.8830</td>\n",
       "      <td>0.001910</td>\n",
       "      <td>0.0668</td>\n",
       "      <td>0.099</td>\n",
       "      <td>...</td>\n",
       "      <td>audio_features</td>\n",
       "      <td>72e9a2yjWAAzMQoHxNb5f8</td>\n",
       "      <td>spotify:track:72e9a2yjWAAzMQoHxNb5f8</td>\n",
       "      <td>https://api.spotify.com/v1/tracks/72e9a2yjWAAz...</td>\n",
       "      <td>https://api.spotify.com/v1/audio-analysis/72e9...</td>\n",
       "      <td>203492</td>\n",
       "      <td>5</td>\n",
       "      <td>Dreamland</td>\n",
       "      <td>Dreamland (+ Bonus Levels)</td>\n",
       "      <td>Glass Animals</td>\n",
       "    </tr>\n",
       "    <tr>\n",
       "      <th>1</th>\n",
       "      <td>0.845</td>\n",
       "      <td>0.583</td>\n",
       "      <td>9</td>\n",
       "      <td>-5.948</td>\n",
       "      <td>0</td>\n",
       "      <td>0.0773</td>\n",
       "      <td>0.1140</td>\n",
       "      <td>0.000536</td>\n",
       "      <td>0.1000</td>\n",
       "      <td>0.842</td>\n",
       "      <td>...</td>\n",
       "      <td>audio_features</td>\n",
       "      <td>5duuw7SyxEPJQmXrMmqNPw</td>\n",
       "      <td>spotify:track:5duuw7SyxEPJQmXrMmqNPw</td>\n",
       "      <td>https://api.spotify.com/v1/tracks/5duuw7SyxEPJ...</td>\n",
       "      <td>https://api.spotify.com/v1/audio-analysis/5duu...</td>\n",
       "      <td>200584</td>\n",
       "      <td>4</td>\n",
       "      <td>Tangerine</td>\n",
       "      <td>Dreamland (+ Bonus Levels)</td>\n",
       "      <td>Glass Animals</td>\n",
       "    </tr>\n",
       "    <tr>\n",
       "      <th>2</th>\n",
       "      <td>0.000</td>\n",
       "      <td>0.138</td>\n",
       "      <td>10</td>\n",
       "      <td>-23.307</td>\n",
       "      <td>0</td>\n",
       "      <td>0.0000</td>\n",
       "      <td>0.9640</td>\n",
       "      <td>0.000000</td>\n",
       "      <td>0.0000</td>\n",
       "      <td>0.000</td>\n",
       "      <td>...</td>\n",
       "      <td>audio_features</td>\n",
       "      <td>6zSnjpObDWJA3TgzoQjbyj</td>\n",
       "      <td>spotify:track:6zSnjpObDWJA3TgzoQjbyj</td>\n",
       "      <td>https://api.spotify.com/v1/tracks/6zSnjpObDWJA...</td>\n",
       "      <td>https://api.spotify.com/v1/audio-analysis/6zSn...</td>\n",
       "      <td>7156</td>\n",
       "      <td>0</td>\n",
       "      <td>((home movie: 1994))</td>\n",
       "      <td>Dreamland (+ Bonus Levels)</td>\n",
       "      <td>Glass Animals</td>\n",
       "    </tr>\n",
       "    <tr>\n",
       "      <th>3</th>\n",
       "      <td>0.705</td>\n",
       "      <td>0.487</td>\n",
       "      <td>0</td>\n",
       "      <td>-9.456</td>\n",
       "      <td>0</td>\n",
       "      <td>0.0587</td>\n",
       "      <td>0.0837</td>\n",
       "      <td>0.028000</td>\n",
       "      <td>0.3030</td>\n",
       "      <td>0.340</td>\n",
       "      <td>...</td>\n",
       "      <td>audio_features</td>\n",
       "      <td>2PLlKITOpHpLpONfReqx3k</td>\n",
       "      <td>spotify:track:2PLlKITOpHpLpONfReqx3k</td>\n",
       "      <td>https://api.spotify.com/v1/tracks/2PLlKITOpHpL...</td>\n",
       "      <td>https://api.spotify.com/v1/audio-analysis/2PLl...</td>\n",
       "      <td>234866</td>\n",
       "      <td>4</td>\n",
       "      <td>Hot Sugar</td>\n",
       "      <td>Dreamland (+ Bonus Levels)</td>\n",
       "      <td>Glass Animals</td>\n",
       "    </tr>\n",
       "    <tr>\n",
       "      <th>4</th>\n",
       "      <td>0.000</td>\n",
       "      <td>0.206</td>\n",
       "      <td>5</td>\n",
       "      <td>-21.272</td>\n",
       "      <td>1</td>\n",
       "      <td>0.0000</td>\n",
       "      <td>0.9360</td>\n",
       "      <td>0.032200</td>\n",
       "      <td>0.6760</td>\n",
       "      <td>0.000</td>\n",
       "      <td>...</td>\n",
       "      <td>audio_features</td>\n",
       "      <td>4vTkS9R8MIZqLcxx2pCtHT</td>\n",
       "      <td>spotify:track:4vTkS9R8MIZqLcxx2pCtHT</td>\n",
       "      <td>https://api.spotify.com/v1/tracks/4vTkS9R8MIZq...</td>\n",
       "      <td>https://api.spotify.com/v1/audio-analysis/4vTk...</td>\n",
       "      <td>13626</td>\n",
       "      <td>0</td>\n",
       "      <td>((home movie: btx))</td>\n",
       "      <td>Dreamland (+ Bonus Levels)</td>\n",
       "      <td>Glass Animals</td>\n",
       "    </tr>\n",
       "  </tbody>\n",
       "</table>\n",
       "<p>5 rows × 21 columns</p>\n",
       "</div>"
      ],
      "text/plain": [
       "   danceability  energy  key  loudness  mode  speechiness  acousticness  \\\n",
       "0         0.253   0.352    8   -11.509     1       0.0357        0.8830   \n",
       "1         0.845   0.583    9    -5.948     0       0.0773        0.1140   \n",
       "2         0.000   0.138   10   -23.307     0       0.0000        0.9640   \n",
       "3         0.705   0.487    0    -9.456     0       0.0587        0.0837   \n",
       "4         0.000   0.206    5   -21.272     1       0.0000        0.9360   \n",
       "\n",
       "   instrumentalness  liveness  valence  ...            type  \\\n",
       "0          0.001910    0.0668    0.099  ...  audio_features   \n",
       "1          0.000536    0.1000    0.842  ...  audio_features   \n",
       "2          0.000000    0.0000    0.000  ...  audio_features   \n",
       "3          0.028000    0.3030    0.340  ...  audio_features   \n",
       "4          0.032200    0.6760    0.000  ...  audio_features   \n",
       "\n",
       "                       id                                   uri  \\\n",
       "0  72e9a2yjWAAzMQoHxNb5f8  spotify:track:72e9a2yjWAAzMQoHxNb5f8   \n",
       "1  5duuw7SyxEPJQmXrMmqNPw  spotify:track:5duuw7SyxEPJQmXrMmqNPw   \n",
       "2  6zSnjpObDWJA3TgzoQjbyj  spotify:track:6zSnjpObDWJA3TgzoQjbyj   \n",
       "3  2PLlKITOpHpLpONfReqx3k  spotify:track:2PLlKITOpHpLpONfReqx3k   \n",
       "4  4vTkS9R8MIZqLcxx2pCtHT  spotify:track:4vTkS9R8MIZqLcxx2pCtHT   \n",
       "\n",
       "                                          track_href  \\\n",
       "0  https://api.spotify.com/v1/tracks/72e9a2yjWAAz...   \n",
       "1  https://api.spotify.com/v1/tracks/5duuw7SyxEPJ...   \n",
       "2  https://api.spotify.com/v1/tracks/6zSnjpObDWJA...   \n",
       "3  https://api.spotify.com/v1/tracks/2PLlKITOpHpL...   \n",
       "4  https://api.spotify.com/v1/tracks/4vTkS9R8MIZq...   \n",
       "\n",
       "                                        analysis_url duration_ms  \\\n",
       "0  https://api.spotify.com/v1/audio-analysis/72e9...      203492   \n",
       "1  https://api.spotify.com/v1/audio-analysis/5duu...      200584   \n",
       "2  https://api.spotify.com/v1/audio-analysis/6zSn...        7156   \n",
       "3  https://api.spotify.com/v1/audio-analysis/2PLl...      234866   \n",
       "4  https://api.spotify.com/v1/audio-analysis/4vTk...       13626   \n",
       "\n",
       "   time_signature            track_name                  album_name  \\\n",
       "0               5             Dreamland  Dreamland (+ Bonus Levels)   \n",
       "1               4             Tangerine  Dreamland (+ Bonus Levels)   \n",
       "2               0  ((home movie: 1994))  Dreamland (+ Bonus Levels)   \n",
       "3               4             Hot Sugar  Dreamland (+ Bonus Levels)   \n",
       "4               0   ((home movie: btx))  Dreamland (+ Bonus Levels)   \n",
       "\n",
       "     artist_name  \n",
       "0  Glass Animals  \n",
       "1  Glass Animals  \n",
       "2  Glass Animals  \n",
       "3  Glass Animals  \n",
       "4  Glass Animals  \n",
       "\n",
       "[5 rows x 21 columns]"
      ]
     },
     "execution_count": 352,
     "metadata": {},
     "output_type": "execute_result"
    }
   ],
   "source": [
    "artist_tracks.head()"
   ]
  },
  {
   "cell_type": "code",
   "execution_count": 383,
   "metadata": {},
   "outputs": [
    {
     "ename": "ValueError",
     "evalue": "too many values to unpack (expected 2)",
     "output_type": "error",
     "traceback": [
      "\u001b[0;31m---------------------------------------------------------------------------\u001b[0m",
      "\u001b[0;31mValueError\u001b[0m                                Traceback (most recent call last)",
      "\u001b[0;32m<ipython-input-383-0e27953c54eb>\u001b[0m in \u001b[0;36m<module>\u001b[0;34m\u001b[0m\n\u001b[0;32m----> 1\u001b[0;31m \u001b[0msong_list\u001b[0m\u001b[0;34m,\u001b[0m \u001b[0mrec_df\u001b[0m \u001b[0;34m=\u001b[0m \u001b[0mcompare_songs\u001b[0m\u001b[0;34m(\u001b[0m\u001b[0martist_tracks\u001b[0m\u001b[0;34m,\u001b[0m \u001b[0muser_tracks\u001b[0m\u001b[0;34m)\u001b[0m\u001b[0;34m\u001b[0m\u001b[0;34m\u001b[0m\u001b[0m\n\u001b[0m",
      "\u001b[0;31mValueError\u001b[0m: too many values to unpack (expected 2)"
     ]
    }
   ],
   "source": [
    "song_list, rec_df = compare_songs(artist_tracks, user_tracks)"
   ]
  },
  {
   "cell_type": "code",
   "execution_count": 381,
   "metadata": {},
   "outputs": [
    {
     "data": {
      "text/plain": [
       "['spotify:track:09ml9rVHNtfvr6jJZPrcPX',\n",
       " 'spotify:track:3mRBPZbnwsmddN0JH5BNVl',\n",
       " 'spotify:track:7a9wmrYMkvjS1eEGzQPaLp',\n",
       " 'spotify:track:0BHStoRqbogddXgezqumz3',\n",
       " 'spotify:track:1C29ru8rzgL83YXrGVOmUs',\n",
       " 'spotify:track:29c4JqIjWrAckKvvPnTeUC',\n",
       " 'spotify:track:65PsOtxOpgaGvjztMGzoj2',\n",
       " 'spotify:track:1FhvSbjZmQQ5qeKXo6JilC']"
      ]
     },
     "execution_count": 381,
     "metadata": {},
     "output_type": "execute_result"
    }
   ],
   "source": [
    "song_list"
   ]
  },
  {
   "cell_type": "code",
   "execution_count": 454,
   "metadata": {},
   "outputs": [],
   "source": [
    "tracks = get_artist_tracks(sp, artists='spotify:artist:3bcLBxvaI7GsBzGp3WHnwQ')\n",
    "user_tracks = get_user_tracks(sp)"
   ]
  },
  {
   "cell_type": "code",
   "execution_count": 453,
   "metadata": {},
   "outputs": [
    {
     "data": {
      "text/plain": [
       "499"
      ]
     },
     "execution_count": 453,
     "metadata": {},
     "output_type": "execute_result"
    }
   ],
   "source": [
    "tracks"
   ]
  },
  {
   "cell_type": "code",
   "execution_count": 456,
   "metadata": {},
   "outputs": [
    {
     "data": {
      "text/plain": [
       "10"
      ]
     },
     "execution_count": 456,
     "metadata": {},
     "output_type": "execute_result"
    }
   ],
   "source": [
    "len(user_tracks)"
   ]
  },
  {
   "cell_type": "code",
   "execution_count": 459,
   "metadata": {},
   "outputs": [
    {
     "data": {
      "text/plain": [
       "['spotify:track:2IF8sqTWsKptMllsYglkeK',\n",
       " 'spotify:track:0POBjbE1ovNWInRDVQbREC',\n",
       " 'spotify:track:7KsGeiA9C4x63MCJcdpL12',\n",
       " 'spotify:track:1jIluyycudIsv7OrURzBBU',\n",
       " 'spotify:track:0BhFrPI9q21LadxoIgT2zf',\n",
       " 'spotify:track:76g5npBAaPI8RDQETVehR7',\n",
       " 'spotify:track:0OkNhfAJPFb54zavGW0RAN',\n",
       " 'spotify:track:4e2rhIyiyAeWuU23k0kMFC',\n",
       " 'spotify:track:7DFTzN8Tg1U6zIYn8rgL9y']"
      ]
     },
     "execution_count": 459,
     "metadata": {},
     "output_type": "execute_result"
    }
   ],
   "source": [
    "compare_songs(tracks, user_tracks)"
   ]
  },
  {
   "cell_type": "code",
   "execution_count": null,
   "metadata": {},
   "outputs": [],
   "source": []
  }
 ],
 "metadata": {
  "kernelspec": {
   "display_name": "Python 3",
   "language": "python",
   "name": "python3"
  },
  "language_info": {
   "codemirror_mode": {
    "name": "ipython",
    "version": 3
   },
   "file_extension": ".py",
   "mimetype": "text/x-python",
   "name": "python",
   "nbconvert_exporter": "python",
   "pygments_lexer": "ipython3",
   "version": "3.7.7"
  }
 },
 "nbformat": 4,
 "nbformat_minor": 4
}
