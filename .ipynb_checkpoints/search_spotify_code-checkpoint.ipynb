{
 "cells": [
  {
   "cell_type": "markdown",
   "metadata": {},
   "source": [
    "# Search Spotify Code"
   ]
  },
  {
   "cell_type": "code",
   "execution_count": 39,
   "metadata": {},
   "outputs": [],
   "source": [
    "#CLIENT_ID=*SEE NOTES*\n",
    "#CLIENT_SECRET=*SEE NOTES*\n",
    "\n",
    "import spotipy\n",
    "from spotipy import util\n",
    "from spotipy.oauth2 import SpotifyClientCredentials, SpotifyOAuth\n",
    "import pandas as pd\n",
    "import matplotlib.pyplot as plt\n",
    "import urllib\n",
    "\n",
    "## REMOVE CLIENT_ID AND CLIENT_SECRET BEFORE PUSHING ##\n",
    "\n",
    "#CLIENT_ID\n",
    "#CLIENT_SECRET\n",
    "USERNAME = 'elw86ve5g5t944wwlef6qyzu3' # Alex Fioto's user id\n",
    "SCOPE = 'playlist-modify-public user-top-read'\n",
    "LOCAL_REDIRECT_URI = 'http://127.0.0.1:8080'\n",
    "REDIRECT_URI = 'https://allosaurusrecs.herokuapp.com/'\n",
    "scope='user-read-currently-playing playlist-modify-public user-top-read playlist-read-private user-read-playback-state'\n",
    "\n",
    "# Requesting access token\n",
    "token = util.prompt_for_user_token(username=USERNAME,\n",
    "                                   scope=scope,\n",
    "                                   client_id=CLIENT_ID,\n",
    "                                   client_secret=CLIENT_SECRET,\n",
    "                                   redirect_uri=LOCAL_REDIRECT_URI) \n",
    "# Instantiating OAuth object\n",
    "spotify = spotipy.Spotify(auth=token)"
   ]
  },
  {
   "cell_type": "code",
   "execution_count": 40,
   "metadata": {},
   "outputs": [],
   "source": [
    "def spotify_uri_search(spotify, search, type='album', limit=10):\n",
    "    '''\n",
    "    Search for a Spotify track, album, playlist, show or episode URI. \n",
    "    \n",
    "    Parameters:\n",
    "    search: search string\n",
    "    \n",
    "    type: type of uri. Choose from track, album, playlist, artist, show or episode URI. \n",
    "    \n",
    "    limit: integer limit to return. 0-50\n",
    "    '''\n",
    "    # Creating empty results list and results dictionary\n",
    "    if limit > 50 or limit < 1:\n",
    "        raise TypeError('Limit needs to be an integer between 1-50')\n",
    "    results = []\n",
    "    res_dict = {}\n",
    "\n",
    "     # Replacing spaces with + \n",
    "    q = search.replace(' ', '+')\n",
    "\n",
    "    # Creating search object\n",
    "    res = spotify.search(q=q, limit=limit, type=type,)\n",
    "\n",
    "    # Selecting all of the tracks in search object\n",
    "    items = res[type+'s']['items']\n",
    "    \n",
    "    # Iterating through tracks or albums \n",
    "    for item in items:\n",
    "        # Creating result dictionary entry\n",
    "        res_dict[item['name']] = item['uri']\n",
    "        \n",
    "#         # Adding name of track or album along with the artists to results\n",
    "#         results.append(item['name'] + ' BY ' + item['artists'][0]['name'])\n",
    "    \n",
    "#     # Printing results for user to decide which album\n",
    "#     for i in range(len(results)):\n",
    "#         print(f'{i}: {type}: {results[i]}')\n",
    "        \n",
    "#     # Requesting user input for correct choice\n",
    "#     response = input('Please select a valid index')\n",
    "    \n",
    "#     # Selecting appropriate Spotify URI\n",
    "#     uri = res_dict.get(results[int(response)].split(' BY ')[0])\n",
    "    \n",
    "    return res_dict"
   ]
  },
  {
   "cell_type": "code",
   "execution_count": 41,
   "metadata": {},
   "outputs": [],
   "source": [
    "res = spotify_uri_search(spotify, 'Run the Jewels', 'album')"
   ]
  },
  {
   "cell_type": "code",
   "execution_count": 44,
   "metadata": {},
   "outputs": [
    {
     "data": {
      "text/plain": [
       "{'Run the Jewels 3': 'spotify:album:3v2GjFB9V5kHgrOCXn3sI9',\n",
       " 'Run The Jewels 2': 'spotify:album:4Loc7NtCAo9mypHO6kbviD',\n",
       " 'Run the Jewels': 'spotify:album:7BUlAwJBzKyllRuDTKV8Ae',\n",
       " 'RTJ4': 'spotify:album:6cx4GVNs03Pu4ZczRnWiLd',\n",
       " 'No Save Point (From \"Cyberpunk 2077\")': 'spotify:album:0AeuKmOe7czsrYwwovI3qu',\n",
       " 'the ground below (feat. Royal Blood) [Royal Jewels Mix]': 'spotify:album:5eV8MufOSCcvwS9oCPN4aX',\n",
       " 'Run the Jewels Instrumentals': 'spotify:album:2ZyrfJY5s31jPFFxKrgKK1',\n",
       " 'ooh la la (feat. Greg Nice & DJ Premier)': 'spotify:album:6HZoagwezp0pF9eCtG83Fu',\n",
       " 'Meow The Jewels': 'spotify:album:2jsjxv51sLt4wDnAixPMIM',\n",
       " \"Let's Go (The Royal We)\": 'spotify:album:4mPoFkacMPrrMns3ClYGCz'}"
      ]
     },
     "execution_count": 44,
     "metadata": {},
     "output_type": "execute_result"
    }
   ],
   "source": [
    "res"
   ]
  },
  {
   "cell_type": "code",
   "execution_count": 28,
   "metadata": {},
   "outputs": [],
   "source": [
    "res = spotify.search(q='run+the+jewels', type='artist')"
   ]
  },
  {
   "cell_type": "code",
   "execution_count": 30,
   "metadata": {},
   "outputs": [],
   "source": [
    "items = res['artists']['items']"
   ]
  },
  {
   "cell_type": "code",
   "execution_count": 31,
   "metadata": {},
   "outputs": [],
   "source": [
    "res_dict={}\n",
    "for item in items:\n",
    "    res_dict[item['name']] = item['uri']\n",
    "    "
   ]
  },
  {
   "cell_type": "code",
   "execution_count": 32,
   "metadata": {},
   "outputs": [
    {
     "data": {
      "text/plain": [
       "{'Run The Jewels': 'spotify:artist:4RnBFZRiMLRyZy0AzzTg2C'}"
      ]
     },
     "execution_count": 32,
     "metadata": {},
     "output_type": "execute_result"
    }
   ],
   "source": [
    "res_dict"
   ]
  },
  {
   "cell_type": "code",
   "execution_count": 46,
   "metadata": {},
   "outputs": [
    {
     "data": {
      "text/plain": [
       "'spotify:track:6VeZ970uI0Yi6sjBgyFBrp'"
      ]
     },
     "execution_count": 46,
     "metadata": {},
     "output_type": "execute_result"
    }
   ],
   "source": []
  },
  {
   "cell_type": "code",
   "execution_count": null,
   "metadata": {},
   "outputs": [],
   "source": []
  }
 ],
 "metadata": {
  "kernelspec": {
   "display_name": "Python 3",
   "language": "python",
   "name": "python3"
  },
  "language_info": {
   "codemirror_mode": {
    "name": "ipython",
    "version": 3
   },
   "file_extension": ".py",
   "mimetype": "text/x-python",
   "name": "python",
   "nbconvert_exporter": "python",
   "pygments_lexer": "ipython3",
   "version": "3.7.7"
  }
 },
 "nbformat": 4,
 "nbformat_minor": 4
}
