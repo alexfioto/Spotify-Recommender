{
 "cells": [
  {
   "cell_type": "markdown",
   "metadata": {},
   "source": [
    "# Search Spotify Code"
   ]
  },
  {
   "cell_type": "code",
   "execution_count": 1,
   "metadata": {},
   "outputs": [],
   "source": [
    "#CLIENT_ID=*SEE NOTES*\n",
    "#CLIENT_SECRET=*SEE NOTES*\n",
    "\n",
    "\n",
    "import spotipy\n",
    "from spotipy import util\n",
    "from spotipy.oauth2 import SpotifyClientCredentials, SpotifyOAuth\n",
    "import pandas as pd\n",
    "import matplotlib.pyplot as plt\n",
    "import urllib\n",
    "\n",
    "## REMOVE CLIENT_ID AND CLIENT_SECRET BEFORE PUSHING ##\n",
    "\n",
    "#CLIENT_ID\n",
    "#CLIENT_SECRET\n",
    "USERNAME = 'elw86ve5g5t944wwlef6qyzu3' # Alex Fioto's user id\n",
    "SCOPE = 'playlist-modify-public user-top-read'\n",
    "LOCAL_REDIRECT_URI = 'http://127.0.0.1:8080'\n",
    "REDIRECT_URI = 'https://allosaurusrecs.herokuapp.com/'\n",
    "scope='user-read-currently-playing playlist-modify-public user-top-read playlist-read-private user-read-playback-state'\n",
    "\n",
    "# Requesting access token\n",
    "token = util.prompt_for_user_token(username=USERNAME,\n",
    "                                   scope=scope,\n",
    "                                   client_id=CLIENT_ID,\n",
    "                                   client_secret=CLIENT_SECRET,\n",
    "                                   redirect_uri=LOCAL_REDIRECT_URI) \n",
    "# Instantiating OAuth object\n",
    "spotify = spotipy.Spotify(auth=token)"
   ]
  },
  {
   "cell_type": "code",
   "execution_count": 92,
   "metadata": {},
   "outputs": [],
   "source": [
    "def spotify_uri_search(spotify, search, type='album', limit=10):\n",
    "    '''\n",
    "    Search for a Spotify track, album, playlist, show or episode URI. \n",
    "    \n",
    "    Parameters:\n",
    "    search: search string\n",
    "    \n",
    "    type: type of uri. Choose from track, album, playlist, artist, show or episode URI. \n",
    "    \n",
    "    limit: integer limit to return. 0-50\n",
    "    '''\n",
    "    # Creating empty results list and results dictionary\n",
    "    if limit > 50 or limit < 1:\n",
    "        raise TypeError('Limit needs to be an integer between 1-50')\n",
    "    results = []\n",
    "    res_dict = {}\n",
    "\n",
    "     # Replacing spaces with + \n",
    "    q = search.replace(' ', '+')\n",
    "\n",
    "    # Creating search object\n",
    "    res = spotify.search(q=q, limit=limit, type=type,)\n",
    "\n",
    "    # Selecting all of the tracks in search object\n",
    "    items = res[type+'s']['items']\n",
    "    \n",
    "    if type == 'track':\n",
    "        df = pd.DataFrame(columns=['Track', 'Artist', 'Code'])\n",
    "        for i in range(len(items)):\n",
    "            artists = ', '.join([artist['name'] for artist in items[i]['artists']])\n",
    "\n",
    "            df.loc[i] = [items[i]['name'], artists, items[i]['uri']]\n",
    "    \n",
    "    elif type == 'playlist':\n",
    "        df = pd.DataFrame(columns=['Playlist', 'Description', 'Code'])\n",
    "        for i in range(len(items)):\n",
    "            df.loc[i] = [items[i]['name'], items[i]['description'], items[i]['uri']]\n",
    "    \n",
    "    elif type == 'album':\n",
    "        df = pd.DataFrame(columns=['Album', 'Artist', 'Code'])\n",
    "        for i in range(len(items)):\n",
    "            artists = ', '.join([artist['name'] for artist in items[i]['artists']])\n",
    "            df.loc[i] = [items[i]['name'], artists, items[i]['uri']]\n",
    "    else:\n",
    "        df = pd.DataFrame(columns=['Artist', 'Code'])\n",
    "        for i in range(len(items)):\n",
    "            df.loc[i] = [items[i]['name'], items[i]['uri']]\n",
    "        \n",
    "        \n",
    "#     # Iterating through tracks or albums \n",
    "#     for item in items:\n",
    "#         # Creating result dictionary entry\n",
    "#         res_dict[item['name']] = item['uri']\n",
    "#         if type == 'track':\n",
    "#             res_dict\n",
    "               \n",
    "#         # Adding name of track or album along with the artists to results\n",
    "#         results.append(item['name'] + ' BY ' + item['artists'][0]['name'])\n",
    "    \n",
    "#     # Printing results for user to decide which album\n",
    "#     for i in range(len(results)):\n",
    "#         print(f'{i}: {type}: {results[i]}')\n",
    "        \n",
    "#     # Requesting user input for correct choice\n",
    "#     response = input('Please select a valid index')\n",
    "    \n",
    "#     # Selecting appropriate Spotify URI\n",
    "#     uri = res_dict.get(results[int(response)].split(' BY ')[0])\n",
    "    \n",
    "    return df"
   ]
  },
  {
   "cell_type": "code",
   "execution_count": 93,
   "metadata": {},
   "outputs": [],
   "source": [
    "res = spotify_uri_search(spotify, 'nobody speak run the jewels', 'album')"
   ]
  },
  {
   "cell_type": "code",
   "execution_count": 94,
   "metadata": {},
   "outputs": [
    {
     "data": {
      "text/html": [
       "<div>\n",
       "<style scoped>\n",
       "    .dataframe tbody tr th:only-of-type {\n",
       "        vertical-align: middle;\n",
       "    }\n",
       "\n",
       "    .dataframe tbody tr th {\n",
       "        vertical-align: top;\n",
       "    }\n",
       "\n",
       "    .dataframe thead th {\n",
       "        text-align: right;\n",
       "    }\n",
       "</style>\n",
       "<table border=\"1\" class=\"dataframe\">\n",
       "  <thead>\n",
       "    <tr style=\"text-align: right;\">\n",
       "      <th></th>\n",
       "      <th>Album</th>\n",
       "      <th>Artist</th>\n",
       "      <th>Code</th>\n",
       "    </tr>\n",
       "  </thead>\n",
       "  <tbody>\n",
       "    <tr>\n",
       "      <th>0</th>\n",
       "      <td>Nobody Speak</td>\n",
       "      <td>DJ Shadow, Run The Jewels</td>\n",
       "      <td>spotify:album:0HAzckjeAN0GuAkR67ngQ4</td>\n",
       "    </tr>\n",
       "  </tbody>\n",
       "</table>\n",
       "</div>"
      ],
      "text/plain": [
       "          Album                     Artist  \\\n",
       "0  Nobody Speak  DJ Shadow, Run The Jewels   \n",
       "\n",
       "                                   Code  \n",
       "0  spotify:album:0HAzckjeAN0GuAkR67ngQ4  "
      ]
     },
     "execution_count": 94,
     "metadata": {},
     "output_type": "execute_result"
    }
   ],
   "source": [
    "res"
   ]
  },
  {
   "cell_type": "code",
   "execution_count": 62,
   "metadata": {},
   "outputs": [],
   "source": [
    "res = spotify.search(q='run+the+jewels', type='artist')"
   ]
  },
  {
   "cell_type": "code",
   "execution_count": 63,
   "metadata": {},
   "outputs": [],
   "source": [
    "items = res['artists']['items']"
   ]
  },
  {
   "cell_type": "code",
   "execution_count": 31,
   "metadata": {},
   "outputs": [],
   "source": [
    "res_dict={}\n",
    "for item in items:\n",
    "    res_dict[item['name']] = item['uri']\n",
    "    "
   ]
  },
  {
   "cell_type": "code",
   "execution_count": null,
   "metadata": {},
   "outputs": [],
   "source": []
  },
  {
   "cell_type": "code",
   "execution_count": 16,
   "metadata": {},
   "outputs": [
    {
     "data": {
      "text/plain": [
       "'Run The Jewels'"
      ]
     },
     "execution_count": 16,
     "metadata": {},
     "output_type": "execute_result"
    }
   ],
   "source": [
    "items[0]['artists'][0]['name']"
   ]
  },
  {
   "cell_type": "code",
   "execution_count": 64,
   "metadata": {},
   "outputs": [],
   "source": [
    "df = pd.DataFrame(columns=['Artist', 'Code'])\n",
    "for i in range(len(items)):\n",
    "    df.loc[i] = [items[i]['name'], items[i]['uri']]"
   ]
  },
  {
   "cell_type": "code",
   "execution_count": 65,
   "metadata": {},
   "outputs": [
    {
     "data": {
      "text/html": [
       "<div>\n",
       "<style scoped>\n",
       "    .dataframe tbody tr th:only-of-type {\n",
       "        vertical-align: middle;\n",
       "    }\n",
       "\n",
       "    .dataframe tbody tr th {\n",
       "        vertical-align: top;\n",
       "    }\n",
       "\n",
       "    .dataframe thead th {\n",
       "        text-align: right;\n",
       "    }\n",
       "</style>\n",
       "<table border=\"1\" class=\"dataframe\">\n",
       "  <thead>\n",
       "    <tr style=\"text-align: right;\">\n",
       "      <th></th>\n",
       "      <th>Artist</th>\n",
       "      <th>Code</th>\n",
       "    </tr>\n",
       "  </thead>\n",
       "  <tbody>\n",
       "    <tr>\n",
       "      <th>0</th>\n",
       "      <td>Run The Jewels</td>\n",
       "      <td>spotify:artist:4RnBFZRiMLRyZy0AzzTg2C</td>\n",
       "    </tr>\n",
       "  </tbody>\n",
       "</table>\n",
       "</div>"
      ],
      "text/plain": [
       "           Artist                                   Code\n",
       "0  Run The Jewels  spotify:artist:4RnBFZRiMLRyZy0AzzTg2C"
      ]
     },
     "execution_count": 65,
     "metadata": {},
     "output_type": "execute_result"
    }
   ],
   "source": [
    "df"
   ]
  },
  {
   "cell_type": "code",
   "execution_count": 54,
   "metadata": {},
   "outputs": [],
   "source": [
    "df = pd.DataFrame(columns=['Playlist', 'Description', 'Code'])\n",
    "for i in range(len(items)):\n",
    "    df.loc[i] = [items[i]['name'], items[i]['description'], items[i]['uri']]"
   ]
  },
  {
   "cell_type": "code",
   "execution_count": 55,
   "metadata": {},
   "outputs": [
    {
     "data": {
      "text/html": [
       "<div>\n",
       "<style scoped>\n",
       "    .dataframe tbody tr th:only-of-type {\n",
       "        vertical-align: middle;\n",
       "    }\n",
       "\n",
       "    .dataframe tbody tr th {\n",
       "        vertical-align: top;\n",
       "    }\n",
       "\n",
       "    .dataframe thead th {\n",
       "        text-align: right;\n",
       "    }\n",
       "</style>\n",
       "<table border=\"1\" class=\"dataframe\">\n",
       "  <thead>\n",
       "    <tr style=\"text-align: right;\">\n",
       "      <th></th>\n",
       "      <th>Playlist</th>\n",
       "      <th>Description</th>\n",
       "      <th>Code</th>\n",
       "    </tr>\n",
       "  </thead>\n",
       "  <tbody>\n",
       "    <tr>\n",
       "      <th>0</th>\n",
       "      <td>Alexaurus Recs</td>\n",
       "      <td></td>\n",
       "      <td>spotify:playlist:51Q6BZUYJOndGoSeWf5IlO</td>\n",
       "    </tr>\n",
       "  </tbody>\n",
       "</table>\n",
       "</div>"
      ],
      "text/plain": [
       "         Playlist Description                                     Code\n",
       "0  Alexaurus Recs              spotify:playlist:51Q6BZUYJOndGoSeWf5IlO"
      ]
     },
     "execution_count": 55,
     "metadata": {},
     "output_type": "execute_result"
    }
   ],
   "source": [
    "df"
   ]
  },
  {
   "cell_type": "code",
   "execution_count": 66,
   "metadata": {},
   "outputs": [
    {
     "data": {
      "text/plain": [
       "[{'external_urls': {'spotify': 'https://open.spotify.com/artist/4RnBFZRiMLRyZy0AzzTg2C'},\n",
       "  'followers': {'href': None, 'total': 844557},\n",
       "  'genres': ['hip hop', 'political hip hop'],\n",
       "  'href': 'https://api.spotify.com/v1/artists/4RnBFZRiMLRyZy0AzzTg2C',\n",
       "  'id': '4RnBFZRiMLRyZy0AzzTg2C',\n",
       "  'images': [{'height': 640,\n",
       "    'url': 'https://i.scdn.co/image/46948c4b3d16f9a42cb16066e46d55a8d8b1c10f',\n",
       "    'width': 640},\n",
       "   {'height': 320,\n",
       "    'url': 'https://i.scdn.co/image/a3bfcfa871baae15d3c804b854f7b435a9410d5e',\n",
       "    'width': 320},\n",
       "   {'height': 160,\n",
       "    'url': 'https://i.scdn.co/image/1326ae2d7a4c50c33aace4948ae3af45d98ed00a',\n",
       "    'width': 160}],\n",
       "  'name': 'Run The Jewels',\n",
       "  'popularity': 70,\n",
       "  'type': 'artist',\n",
       "  'uri': 'spotify:artist:4RnBFZRiMLRyZy0AzzTg2C'}]"
      ]
     },
     "execution_count": 66,
     "metadata": {},
     "output_type": "execute_result"
    }
   ],
   "source": [
    "items"
   ]
  },
  {
   "cell_type": "code",
   "execution_count": null,
   "metadata": {},
   "outputs": [],
   "source": []
  }
 ],
 "metadata": {
  "kernelspec": {
   "display_name": "Python 3",
   "language": "python",
   "name": "python3"
  },
  "language_info": {
   "codemirror_mode": {
    "name": "ipython",
    "version": 3
   },
   "file_extension": ".py",
   "mimetype": "text/x-python",
   "name": "python",
   "nbconvert_exporter": "python",
   "pygments_lexer": "ipython3",
   "version": "3.7.7"
  }
 },
 "nbformat": 4,
 "nbformat_minor": 4
}
