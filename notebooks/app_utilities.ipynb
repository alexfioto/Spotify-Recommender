{
 "cells": [
  {
   "cell_type": "markdown",
   "metadata": {},
   "source": [
    "# App Utility Functions\n",
    "\n",
    "Still a work in progress. I apologize for some messy code!"
   ]
  },
  {
   "cell_type": "code",
   "execution_count": 35,
   "metadata": {},
   "outputs": [
    {
     "ename": "KeyboardInterrupt",
     "evalue": "",
     "output_type": "error",
     "traceback": [
      "\u001b[0;31m---------------------------------------------------------------------------\u001b[0m",
      "\u001b[0;31mKeyboardInterrupt\u001b[0m                         Traceback (most recent call last)",
      "\u001b[0;32m<ipython-input-35-0e1a1bed16d9>\u001b[0m in \u001b[0;36m<module>\u001b[0;34m\u001b[0m\n\u001b[1;32m     24\u001b[0m                                    \u001b[0mclient_id\u001b[0m\u001b[0;34m=\u001b[0m\u001b[0mCLIENT_ID\u001b[0m\u001b[0;34m,\u001b[0m\u001b[0;34m\u001b[0m\u001b[0;34m\u001b[0m\u001b[0m\n\u001b[1;32m     25\u001b[0m                                    \u001b[0mclient_secret\u001b[0m\u001b[0;34m=\u001b[0m\u001b[0mCLIENT_SECRET\u001b[0m\u001b[0;34m,\u001b[0m\u001b[0;34m\u001b[0m\u001b[0;34m\u001b[0m\u001b[0m\n\u001b[0;32m---> 26\u001b[0;31m                                    redirect_uri=LOCAL_REDIRECT_URI) \n\u001b[0m\u001b[1;32m     27\u001b[0m \u001b[0;31m# Instantiating OAuth object\u001b[0m\u001b[0;34m\u001b[0m\u001b[0;34m\u001b[0m\u001b[0;34m\u001b[0m\u001b[0m\n\u001b[1;32m     28\u001b[0m \u001b[0mspotify\u001b[0m \u001b[0;34m=\u001b[0m \u001b[0mspotipy\u001b[0m\u001b[0;34m.\u001b[0m\u001b[0mSpotify\u001b[0m\u001b[0;34m(\u001b[0m\u001b[0mauth\u001b[0m\u001b[0;34m=\u001b[0m\u001b[0mtoken\u001b[0m\u001b[0;34m)\u001b[0m\u001b[0;34m\u001b[0m\u001b[0;34m\u001b[0m\u001b[0m\n",
      "\u001b[0;32m~/opt/anaconda3/lib/python3.7/site-packages/spotipy/util.py\u001b[0m in \u001b[0;36mprompt_for_user_token\u001b[0;34m(username, scope, client_id, client_secret, redirect_uri, cache_path, oauth_manager, show_dialog)\u001b[0m\n\u001b[1;32m     97\u001b[0m \u001b[0;34m\u001b[0m\u001b[0m\n\u001b[1;32m     98\u001b[0m     \u001b[0;32mif\u001b[0m \u001b[0;32mnot\u001b[0m \u001b[0mtoken_info\u001b[0m\u001b[0;34m:\u001b[0m\u001b[0;34m\u001b[0m\u001b[0;34m\u001b[0m\u001b[0m\n\u001b[0;32m---> 99\u001b[0;31m         \u001b[0mcode\u001b[0m \u001b[0;34m=\u001b[0m \u001b[0msp_oauth\u001b[0m\u001b[0;34m.\u001b[0m\u001b[0mget_auth_response\u001b[0m\u001b[0;34m(\u001b[0m\u001b[0;34m)\u001b[0m\u001b[0;34m\u001b[0m\u001b[0;34m\u001b[0m\u001b[0m\n\u001b[0m\u001b[1;32m    100\u001b[0m         \u001b[0mtoken\u001b[0m \u001b[0;34m=\u001b[0m \u001b[0msp_oauth\u001b[0m\u001b[0;34m.\u001b[0m\u001b[0mget_access_token\u001b[0m\u001b[0;34m(\u001b[0m\u001b[0mcode\u001b[0m\u001b[0;34m,\u001b[0m \u001b[0mas_dict\u001b[0m\u001b[0;34m=\u001b[0m\u001b[0;32mFalse\u001b[0m\u001b[0;34m)\u001b[0m\u001b[0;34m\u001b[0m\u001b[0;34m\u001b[0m\u001b[0m\n\u001b[1;32m    101\u001b[0m     \u001b[0;32melse\u001b[0m\u001b[0;34m:\u001b[0m\u001b[0;34m\u001b[0m\u001b[0;34m\u001b[0m\u001b[0m\n",
      "\u001b[0;32m~/opt/anaconda3/lib/python3.7/site-packages/spotipy/oauth2.py\u001b[0m in \u001b[0;36mget_auth_response\u001b[0;34m(self, open_browser)\u001b[0m\n\u001b[1;32m    437\u001b[0m             \u001b[0;31m# Only start a local http server if a port is specified\u001b[0m\u001b[0;34m\u001b[0m\u001b[0;34m\u001b[0m\u001b[0;34m\u001b[0m\u001b[0m\n\u001b[1;32m    438\u001b[0m             \u001b[0;32mif\u001b[0m \u001b[0mredirect_port\u001b[0m\u001b[0;34m:\u001b[0m\u001b[0;34m\u001b[0m\u001b[0;34m\u001b[0m\u001b[0m\n\u001b[0;32m--> 439\u001b[0;31m                 \u001b[0;32mreturn\u001b[0m \u001b[0mself\u001b[0m\u001b[0;34m.\u001b[0m\u001b[0m_get_auth_response_local_server\u001b[0m\u001b[0;34m(\u001b[0m\u001b[0mredirect_port\u001b[0m\u001b[0;34m)\u001b[0m\u001b[0;34m\u001b[0m\u001b[0;34m\u001b[0m\u001b[0m\n\u001b[0m\u001b[1;32m    440\u001b[0m             \u001b[0;32melse\u001b[0m\u001b[0;34m:\u001b[0m\u001b[0;34m\u001b[0m\u001b[0;34m\u001b[0m\u001b[0m\n\u001b[1;32m    441\u001b[0m                 logger.warning('Using `%s` as redirect URI without a port. '\n",
      "\u001b[0;32m~/opt/anaconda3/lib/python3.7/site-packages/spotipy/oauth2.py\u001b[0m in \u001b[0;36m_get_auth_response_local_server\u001b[0;34m(self, redirect_port)\u001b[0m\n\u001b[1;32m    405\u001b[0m         \u001b[0mserver\u001b[0m \u001b[0;34m=\u001b[0m \u001b[0mstart_local_http_server\u001b[0m\u001b[0;34m(\u001b[0m\u001b[0mredirect_port\u001b[0m\u001b[0;34m)\u001b[0m\u001b[0;34m\u001b[0m\u001b[0;34m\u001b[0m\u001b[0m\n\u001b[1;32m    406\u001b[0m         \u001b[0mself\u001b[0m\u001b[0;34m.\u001b[0m\u001b[0m_open_auth_url\u001b[0m\u001b[0;34m(\u001b[0m\u001b[0;34m)\u001b[0m\u001b[0;34m\u001b[0m\u001b[0;34m\u001b[0m\u001b[0m\n\u001b[0;32m--> 407\u001b[0;31m         \u001b[0mserver\u001b[0m\u001b[0;34m.\u001b[0m\u001b[0mhandle_request\u001b[0m\u001b[0;34m(\u001b[0m\u001b[0;34m)\u001b[0m\u001b[0;34m\u001b[0m\u001b[0;34m\u001b[0m\u001b[0m\n\u001b[0m\u001b[1;32m    408\u001b[0m \u001b[0;34m\u001b[0m\u001b[0m\n\u001b[1;32m    409\u001b[0m         \u001b[0;32mif\u001b[0m \u001b[0mself\u001b[0m\u001b[0;34m.\u001b[0m\u001b[0mstate\u001b[0m \u001b[0;32mis\u001b[0m \u001b[0;32mnot\u001b[0m \u001b[0;32mNone\u001b[0m \u001b[0;32mand\u001b[0m \u001b[0mserver\u001b[0m\u001b[0;34m.\u001b[0m\u001b[0mstate\u001b[0m \u001b[0;34m!=\u001b[0m \u001b[0mself\u001b[0m\u001b[0;34m.\u001b[0m\u001b[0mstate\u001b[0m\u001b[0;34m:\u001b[0m\u001b[0;34m\u001b[0m\u001b[0;34m\u001b[0m\u001b[0m\n",
      "\u001b[0;32m~/opt/anaconda3/lib/python3.7/socketserver.py\u001b[0m in \u001b[0;36mhandle_request\u001b[0;34m(self)\u001b[0m\n\u001b[1;32m    292\u001b[0m \u001b[0;34m\u001b[0m\u001b[0m\n\u001b[1;32m    293\u001b[0m             \u001b[0;32mwhile\u001b[0m \u001b[0;32mTrue\u001b[0m\u001b[0;34m:\u001b[0m\u001b[0;34m\u001b[0m\u001b[0;34m\u001b[0m\u001b[0m\n\u001b[0;32m--> 294\u001b[0;31m                 \u001b[0mready\u001b[0m \u001b[0;34m=\u001b[0m \u001b[0mselector\u001b[0m\u001b[0;34m.\u001b[0m\u001b[0mselect\u001b[0m\u001b[0;34m(\u001b[0m\u001b[0mtimeout\u001b[0m\u001b[0;34m)\u001b[0m\u001b[0;34m\u001b[0m\u001b[0;34m\u001b[0m\u001b[0m\n\u001b[0m\u001b[1;32m    295\u001b[0m                 \u001b[0;32mif\u001b[0m \u001b[0mready\u001b[0m\u001b[0;34m:\u001b[0m\u001b[0;34m\u001b[0m\u001b[0;34m\u001b[0m\u001b[0m\n\u001b[1;32m    296\u001b[0m                     \u001b[0;32mreturn\u001b[0m \u001b[0mself\u001b[0m\u001b[0;34m.\u001b[0m\u001b[0m_handle_request_noblock\u001b[0m\u001b[0;34m(\u001b[0m\u001b[0;34m)\u001b[0m\u001b[0;34m\u001b[0m\u001b[0;34m\u001b[0m\u001b[0m\n",
      "\u001b[0;32m~/opt/anaconda3/lib/python3.7/selectors.py\u001b[0m in \u001b[0;36mselect\u001b[0;34m(self, timeout)\u001b[0m\n\u001b[1;32m    413\u001b[0m         \u001b[0mready\u001b[0m \u001b[0;34m=\u001b[0m \u001b[0;34m[\u001b[0m\u001b[0;34m]\u001b[0m\u001b[0;34m\u001b[0m\u001b[0;34m\u001b[0m\u001b[0m\n\u001b[1;32m    414\u001b[0m         \u001b[0;32mtry\u001b[0m\u001b[0;34m:\u001b[0m\u001b[0;34m\u001b[0m\u001b[0;34m\u001b[0m\u001b[0m\n\u001b[0;32m--> 415\u001b[0;31m             \u001b[0mfd_event_list\u001b[0m \u001b[0;34m=\u001b[0m \u001b[0mself\u001b[0m\u001b[0;34m.\u001b[0m\u001b[0m_selector\u001b[0m\u001b[0;34m.\u001b[0m\u001b[0mpoll\u001b[0m\u001b[0;34m(\u001b[0m\u001b[0mtimeout\u001b[0m\u001b[0;34m)\u001b[0m\u001b[0;34m\u001b[0m\u001b[0;34m\u001b[0m\u001b[0m\n\u001b[0m\u001b[1;32m    416\u001b[0m         \u001b[0;32mexcept\u001b[0m \u001b[0mInterruptedError\u001b[0m\u001b[0;34m:\u001b[0m\u001b[0;34m\u001b[0m\u001b[0;34m\u001b[0m\u001b[0m\n\u001b[1;32m    417\u001b[0m             \u001b[0;32mreturn\u001b[0m \u001b[0mready\u001b[0m\u001b[0;34m\u001b[0m\u001b[0;34m\u001b[0m\u001b[0m\n",
      "\u001b[0;31mKeyboardInterrupt\u001b[0m: "
     ]
    }
   ],
   "source": [
    "#CLIENT_ID=*SEE NOTES*\n",
    "#CLIENT_SECRET=*SEE NOTES*\n",
    "\n",
    "import spotipy\n",
    "from spotipy import util\n",
    "from spotipy.oauth2 import SpotifyClientCredentials, SpotifyOAuth\n",
    "import pandas as pd\n",
    "import matplotlib.pyplot as plt\n",
    "import urllib\n",
    "\n",
    "## REMOVE CLIENT_ID AND CLIENT_SECRET BEFORE PUSHING ##\n",
    "\n",
    "#CLIENT_ID\n",
    "#CLIENT_SECRET\n",
    "USERNAME = 'elw86ve5g5t944wwlef6qyzu3' # Alex Fioto's user id\n",
    "SCOPE = 'playlist-modify-public user-top-read'\n",
    "LOCAL_REDIRECT_URI = 'http://127.0.0.1:8080'\n",
    "REDIRECT_URI = 'https://allosaurusrecs.herokuapp.com/'\n",
    "scope='user-read-currently-playing playlist-modify-public user-top-read playlist-read-private user-read-playback-state'\n",
    "\n",
    "# Requesting access token\n",
    "token = util.prompt_for_user_token(username=USERNAME,\n",
    "                                   scope=scope,\n",
    "                                   client_id=CLIENT_ID,\n",
    "                                   client_secret=CLIENT_SECRET,\n",
    "                                   redirect_uri=LOCAL_REDIRECT_URI) \n",
    "# Instantiating OAuth object\n",
    "spotify = spotipy.Spotify(auth=token)"
   ]
  },
  {
   "cell_type": "markdown",
   "metadata": {},
   "source": [
    "# Search Spotify Code"
   ]
  },
  {
   "cell_type": "code",
   "execution_count": 33,
   "metadata": {},
   "outputs": [],
   "source": [
    "def spotify_uri_search(spotify, search, type='album'):\n",
    "    '''\n",
    "    Search for a Spotify track, album, playlist, show or episode URI. \n",
    "    \n",
    "    Parameters:\n",
    "    search: search string\n",
    "    \n",
    "    type: type of uri. Choose from track, album, playlist, artist, show or episode URI. \n",
    "    \n",
    "    '''\n",
    "    # Creating empty results list and results dictionary\n",
    "    results = []\n",
    "    res_dict = {}\n",
    "\n",
    "     # Replacing spaces with + \n",
    "    q = search.replace(' ', '+')\n",
    "\n",
    "    # Creating search object\n",
    "    res = spotify.search(q=q, limit=10, type=type,)\n",
    "\n",
    "    # Selecting all of the tracks in search object\n",
    "    items = res[type+'s']['items']\n",
    "    \n",
    "    if type == 'track':\n",
    "        df = pd.DataFrame(columns=['Track', 'Artist', 'Code'])\n",
    "        for i in range(len(items)):\n",
    "            artists = ', '.join([artist['name'] for artist in items[i]['artists']])\n",
    "\n",
    "            df.loc[i] = [items[i]['name'], artists, items[i]['uri']]\n",
    "    \n",
    "    elif type == 'playlist':\n",
    "        df = pd.DataFrame(columns=['Playlist', 'Description', 'Code'])\n",
    "        for i in range(len(items)):\n",
    "            df.loc[i] = [items[i]['name'], items[i]['description'], items[i]['uri']]\n",
    "    \n",
    "    elif type == 'album':\n",
    "        df = pd.DataFrame(columns=['Album', 'Artist', 'Code'])\n",
    "        for i in range(len(items)):\n",
    "            artists = ', '.join([artist['name'] for artist in items[i]['artists']])\n",
    "            df.loc[i] = [items[i]['name'], artists, items[i]['uri']]\n",
    "    \n",
    "    else: # type == 'artist'\n",
    "        df = pd.DataFrame(columns=['Artist', 'Followers', 'Code'])\n",
    "        for i in range(len(items)):\n",
    "            df.loc[i] = [items[i]['name'], items[i]['followers']['total'], items[i]['uri']]\n",
    "    \n",
    "    return df"
   ]
  },
  {
   "cell_type": "code",
   "execution_count": 34,
   "metadata": {},
   "outputs": [
    {
     "data": {
      "text/html": [
       "<div>\n",
       "<style scoped>\n",
       "    .dataframe tbody tr th:only-of-type {\n",
       "        vertical-align: middle;\n",
       "    }\n",
       "\n",
       "    .dataframe tbody tr th {\n",
       "        vertical-align: top;\n",
       "    }\n",
       "\n",
       "    .dataframe thead th {\n",
       "        text-align: right;\n",
       "    }\n",
       "</style>\n",
       "<table border=\"1\" class=\"dataframe\">\n",
       "  <thead>\n",
       "    <tr style=\"text-align: right;\">\n",
       "      <th></th>\n",
       "      <th>Artist</th>\n",
       "      <th>Followers</th>\n",
       "      <th>Code</th>\n",
       "    </tr>\n",
       "  </thead>\n",
       "  <tbody>\n",
       "    <tr>\n",
       "      <th>0</th>\n",
       "      <td>Killer Mike</td>\n",
       "      <td>216904</td>\n",
       "      <td>spotify:artist:2N4EYkIlG1kv25g6Wv8LGI</td>\n",
       "    </tr>\n",
       "    <tr>\n",
       "      <th>1</th>\n",
       "      <td>Killer Mike &amp; Mr. E of RPS Fam</td>\n",
       "      <td>10</td>\n",
       "      <td>spotify:artist:2jcLkb2CxqX5u41w1rfVWJ</td>\n",
       "    </tr>\n",
       "    <tr>\n",
       "      <th>2</th>\n",
       "      <td>Killer Mike</td>\n",
       "      <td>5</td>\n",
       "      <td>spotify:artist:3C0qtxx8WydCAOX3EireOo</td>\n",
       "    </tr>\n",
       "    <tr>\n",
       "      <th>3</th>\n",
       "      <td>Playboy Tre &amp; Killer Mike prod. Fury</td>\n",
       "      <td>3</td>\n",
       "      <td>spotify:artist:41MDlXB5thFZwUpwdBIATm</td>\n",
       "    </tr>\n",
       "    <tr>\n",
       "      <th>4</th>\n",
       "      <td>Gucci Mane, K Digga, Killer Mike</td>\n",
       "      <td>22</td>\n",
       "      <td>spotify:artist:3hypnNH2Yr7oaHqzf97QbO</td>\n",
       "    </tr>\n",
       "    <tr>\n",
       "      <th>5</th>\n",
       "      <td>Bun B, T.I., Killer Mike</td>\n",
       "      <td>15</td>\n",
       "      <td>spotify:artist:15SF144dUTRon2wJx1mGrS</td>\n",
       "    </tr>\n",
       "    <tr>\n",
       "      <th>6</th>\n",
       "      <td>Mike Killer</td>\n",
       "      <td>4</td>\n",
       "      <td>spotify:artist:0NPUqLg5LJmkafTlj4tC72</td>\n",
       "    </tr>\n",
       "    <tr>\n",
       "      <th>7</th>\n",
       "      <td>M. Zdrakovic / Killer Mike</td>\n",
       "      <td>2</td>\n",
       "      <td>spotify:artist:3UUwqW85djGreieY0EnxPY</td>\n",
       "    </tr>\n",
       "    <tr>\n",
       "      <th>8</th>\n",
       "      <td>Kris Daddy / Killer Mike</td>\n",
       "      <td>2</td>\n",
       "      <td>spotify:artist:3fjVRF4gERKTd6WyRegy0f</td>\n",
       "    </tr>\n",
       "    <tr>\n",
       "      <th>9</th>\n",
       "      <td>Tamara J, Killer Mike</td>\n",
       "      <td>3</td>\n",
       "      <td>spotify:artist:5J5B15vasVZgva9vo0wjB2</td>\n",
       "    </tr>\n",
       "  </tbody>\n",
       "</table>\n",
       "</div>"
      ],
      "text/plain": [
       "                                 Artist Followers  \\\n",
       "0                           Killer Mike    216904   \n",
       "1        Killer Mike & Mr. E of RPS Fam        10   \n",
       "2                           Killer Mike         5   \n",
       "3  Playboy Tre & Killer Mike prod. Fury         3   \n",
       "4      Gucci Mane, K Digga, Killer Mike        22   \n",
       "5              Bun B, T.I., Killer Mike        15   \n",
       "6                           Mike Killer         4   \n",
       "7            M. Zdrakovic / Killer Mike         2   \n",
       "8              Kris Daddy / Killer Mike         2   \n",
       "9                 Tamara J, Killer Mike         3   \n",
       "\n",
       "                                    Code  \n",
       "0  spotify:artist:2N4EYkIlG1kv25g6Wv8LGI  \n",
       "1  spotify:artist:2jcLkb2CxqX5u41w1rfVWJ  \n",
       "2  spotify:artist:3C0qtxx8WydCAOX3EireOo  \n",
       "3  spotify:artist:41MDlXB5thFZwUpwdBIATm  \n",
       "4  spotify:artist:3hypnNH2Yr7oaHqzf97QbO  \n",
       "5  spotify:artist:15SF144dUTRon2wJx1mGrS  \n",
       "6  spotify:artist:0NPUqLg5LJmkafTlj4tC72  \n",
       "7  spotify:artist:3UUwqW85djGreieY0EnxPY  \n",
       "8  spotify:artist:3fjVRF4gERKTd6WyRegy0f  \n",
       "9  spotify:artist:5J5B15vasVZgva9vo0wjB2  "
      ]
     },
     "execution_count": 34,
     "metadata": {},
     "output_type": "execute_result"
    }
   ],
   "source": [
    "res = spotify_uri_search(spotify, 'killer mike', 'artist')\n",
    "res"
   ]
  },
  {
   "cell_type": "markdown",
   "metadata": {},
   "source": [
    "## Parse Spotify Link"
   ]
  },
  {
   "cell_type": "code",
   "execution_count": null,
   "metadata": {},
   "outputs": [],
   "source": [
    "test = 'https://open.spotify.com/track/0cG6z63opd1xEcaKaC1CKw?si=on83eDH2Siy6Jbnu8fLMQQ'\n",
    "test2 = 'https://open.spotify.com/track/0cG6z63opd1xEcaKaC1CKw'\n",
    "def parse_spotify_link(link):\n",
    "    if '?' in link:\n",
    "        return link.split('/')[-1].split('?')[0]\n",
    "    else:\n",
    "        return link.split('/')[-1]"
   ]
  },
  {
   "cell_type": "markdown",
   "metadata": {},
   "source": [
    "## Make Spotify Playlist"
   ]
  },
  {
   "cell_type": "code",
   "execution_count": 1,
   "metadata": {},
   "outputs": [],
   "source": [
    "def make_playlist(spotify, playlist_uris, playlist_name):\n",
    "    user = spotify.current_user()['id']\n",
    "    playlist = spotify.user_playlist_create(user=user, name=playlist_name, public=True)\n",
    "    playlist_id = playlist['id']\n",
    "    spotify.user_playlist_add_tracks(user=user,\n",
    "                                     playlist_id=playlist_id,\n",
    "                                     tracks=playlist_uris)"
   ]
  },
  {
   "cell_type": "markdown",
   "metadata": {},
   "source": [
    "## Get Album Art URI"
   ]
  },
  {
   "cell_type": "code",
   "execution_count": 2,
   "metadata": {},
   "outputs": [
    {
     "ename": "NameError",
     "evalue": "name 'sp' is not defined",
     "output_type": "error",
     "traceback": [
      "\u001b[0;31m---------------------------------------------------------------------------\u001b[0m",
      "\u001b[0;31mNameError\u001b[0m                                 Traceback (most recent call last)",
      "\u001b[0;32m<ipython-input-2-052ad0088bc8>\u001b[0m in \u001b[0;36m<module>\u001b[0;34m\u001b[0m\n\u001b[0;32m----> 1\u001b[0;31m \u001b[0muri\u001b[0m \u001b[0;34m=\u001b[0m \u001b[0msp\u001b[0m\u001b[0;34m.\u001b[0m\u001b[0mcurrent_user_playing_track\u001b[0m\u001b[0;34m(\u001b[0m\u001b[0;34m)\u001b[0m\u001b[0;34m[\u001b[0m\u001b[0;34m'item'\u001b[0m\u001b[0;34m]\u001b[0m\u001b[0;34m[\u001b[0m\u001b[0;34m'uri'\u001b[0m\u001b[0;34m]\u001b[0m\u001b[0;34m\u001b[0m\u001b[0;34m\u001b[0m\u001b[0m\n\u001b[0m\u001b[1;32m      2\u001b[0m \u001b[0;32mdef\u001b[0m \u001b[0malbum_art_url\u001b[0m\u001b[0;34m(\u001b[0m\u001b[0mtrack_uri\u001b[0m\u001b[0;34m)\u001b[0m\u001b[0;34m:\u001b[0m\u001b[0;34m\u001b[0m\u001b[0;34m\u001b[0m\u001b[0m\n\u001b[1;32m      3\u001b[0m     '''\n\u001b[1;32m      4\u001b[0m     \u001b[0mRetrieves\u001b[0m \u001b[0malbum\u001b[0m \u001b[0mart\u001b[0m \u001b[0murl\u001b[0m\u001b[0;34m\u001b[0m\u001b[0;34m\u001b[0m\u001b[0m\n\u001b[1;32m      5\u001b[0m \u001b[0;34m\u001b[0m\u001b[0m\n",
      "\u001b[0;31mNameError\u001b[0m: name 'sp' is not defined"
     ]
    }
   ],
   "source": [
    "uri = sp.current_user_playing_track()['item']['uri']\n",
    "def album_art_url(track_uri):\n",
    "    '''\n",
    "    Retrieves album art url\n",
    "    \n",
    "    Parameters:\n",
    "    uri: Spotify track URI\n",
    "    '''\n",
    "    \n",
    "    # Getting track object\n",
    "    track = sp.track(track_uri)\n",
    "    \n",
    "    # Extracting image URL \n",
    "    url = track['album']['images'][0]['url']\n",
    "    \n",
    "    return url\n",
    "\n",
    "album_art_url(uri)"
   ]
  },
  {
   "cell_type": "markdown",
   "metadata": {},
   "source": [
    "# Get Playlist Embeddings"
   ]
  },
  {
   "cell_type": "markdown",
   "metadata": {},
   "source": [
    "Explaination"
   ]
  },
  {
   "cell_type": "code",
   "execution_count": 3,
   "metadata": {},
   "outputs": [],
   "source": [
    "def get_playlist_embeddings(spotify):\n",
    "    '''\n",
    "    Takes in user authentication object and returns HTML embedding codes for user playlists\n",
    "    '''\n",
    "    playlists = spotify.current_user_playlists()\n",
    "    playlist_ids = [playlist['id'] for playlist in playlists['items']]\n",
    "    embed_code = '<iframe src=\"https://open.spotify.com/embed/playlist/####\" width=\"300\" height=\"380\" frameborder=\"0\" allowtransparency=\"true\" allow=\"encrypted-media\"></iframe>'\n",
    "    codes = ' '.join([embed_code.replace('####', playlist_id) for playlist_id in playlist_ids])\n",
    "    return codes"
   ]
  },
  {
   "cell_type": "code",
   "execution_count": 4,
   "metadata": {},
   "outputs": [
    {
     "data": {
      "text/html": [
       "'<iframe src=\"https://open.spotify.com/embed/playlist/2rX148mot1TpEDPbJdrqjs\" width=\"300\" height=\"380\" frameborder=\"0\" allowtransparency=\"true\" allow=\"encrypted-media\"></iframe> <iframe src=\"https://open.spotify.com/embed/playlist/36IMauEyDsOmc6NoJ1ECPM\" width=\"300\" height=\"380\" frameborder=\"0\" allowtransparency=\"true\" allow=\"encrypted-media\"></iframe> <iframe src=\"https://open.spotify.com/embed/playlist/7gX4gtuKBJyZS8qll6W6ud\" width=\"300\" height=\"380\" frameborder=\"0\" allowtransparency=\"true\" allow=\"encrypted-media\"></iframe> <iframe src=\"https://open.spotify.com/embed/playlist/04xlIANGeecMR5UNd8RBic\" width=\"300\" height=\"380\" frameborder=\"0\" allowtransparency=\"true\" allow=\"encrypted-media\"></iframe>'\n"
      ],
      "text/plain": [
       "<IPython.core.display.HTML object>"
      ]
     },
     "metadata": {},
     "output_type": "display_data"
    }
   ],
   "source": [
    "%%html\n",
    "'<iframe src=\"https://open.spotify.com/embed/playlist/2rX148mot1TpEDPbJdrqjs\" width=\"300\" height=\"380\" frameborder=\"0\" allowtransparency=\"true\" allow=\"encrypted-media\"></iframe> <iframe src=\"https://open.spotify.com/embed/playlist/36IMauEyDsOmc6NoJ1ECPM\" width=\"300\" height=\"380\" frameborder=\"0\" allowtransparency=\"true\" allow=\"encrypted-media\"></iframe> <iframe src=\"https://open.spotify.com/embed/playlist/7gX4gtuKBJyZS8qll6W6ud\" width=\"300\" height=\"380\" frameborder=\"0\" allowtransparency=\"true\" allow=\"encrypted-media\"></iframe> <iframe src=\"https://open.spotify.com/embed/playlist/04xlIANGeecMR5UNd8RBic\" width=\"300\" height=\"380\" frameborder=\"0\" allowtransparency=\"true\" allow=\"encrypted-media\"></iframe>'"
   ]
  },
  {
   "cell_type": "code",
   "execution_count": 2,
   "metadata": {},
   "outputs": [],
   "source": [
    "def show_album_art(track_uri):\n",
    "    '''\n",
    "    Retrieves and displays album art for a given track on Spotify\n",
    "    \n",
    "    Parameters:\n",
    "    uri: Spotify track URI\n",
    "    '''\n",
    "    \n",
    "    # Getting track object\n",
    "    track = sp.track(track_uri)\n",
    "    \n",
    "    # Extracting image URL \n",
    "    url = track['album']['images'][0]['url']\n",
    "    \n",
    "    # Creating file object\n",
    "    f = urllib.request.urlopen(url)\n",
    "    \n",
    "    # Creating an matplotlib image read object specifying jpg format\n",
    "    a = plt.imread(f, format='jpg')\n",
    "    \n",
    "    # Turning off axis\n",
    "    plt.axis(False)\n",
    "    \n",
    "    # Showing image\n",
    "    plt.imshow(a);\n",
    "    return url"
   ]
  },
  {
   "cell_type": "code",
   "execution_count": 3,
   "metadata": {},
   "outputs": [],
   "source": [
    "def spotify_uri_search(search, type='album', limit=10):\n",
    "    '''\n",
    "    Search for a Spotify track, album, playlist, show or episode URI. \n",
    "    \n",
    "    Parameters:\n",
    "    search: search string\n",
    "    \n",
    "    type: type of uri. Choose from track, album, playlist, show or episode URI. \n",
    "    \n",
    "    limit: integer limit to return. 0-50\n",
    "    '''\n",
    "    # Creating empty results list and results dictionary\n",
    "    if limit > 50 or limit < 1:\n",
    "        raise TypeError('Limit needs to be an integer between 1-50')\n",
    "    results = []\n",
    "    res_dict = {}\n",
    "\n",
    "     # Replacing spaces with + \n",
    "    q = search.replace(' ', '+')\n",
    "\n",
    "    # Creating search object\n",
    "    res = sp.search(q=q, limit=limit, type=type,)\n",
    "\n",
    "    # Selecting all of the tracks in search object\n",
    "    tracks = res[type+'s']['items']\n",
    "    \n",
    "    # Iterating through tracks or albums \n",
    "    for item in tracks:\n",
    "        # Creating result dictionary entry\n",
    "        res_dict[item['name']] = item['uri']\n",
    "        \n",
    "        # Adding name of track or album along with the artists to results\n",
    "        results.append(item['name'] + ' BY ' + item['artists'][0]['name'])\n",
    "    \n",
    "    # Printing results for user to decide which album\n",
    "    for i in range(len(results)):\n",
    "        print(f'{i}: {type}: {results[i]}')\n",
    "        \n",
    "    # Requesting user input for correct choice\n",
    "    response = input('Please select a valid index')\n",
    "    \n",
    "    # Selecting appropriate Spotify URI\n",
    "    uri = res_dict.get(results[int(response)].split(' BY ')[0])\n",
    "    \n",
    "    return uri"
   ]
  },
  {
   "cell_type": "code",
   "execution_count": null,
   "metadata": {},
   "outputs": [],
   "source": [
    "res = spotify_uri_search('cheese', type='track', limit=30)"
   ]
  },
  {
   "cell_type": "code",
   "execution_count": null,
   "metadata": {},
   "outputs": [],
   "source": []
  },
  {
   "cell_type": "code",
   "execution_count": null,
   "metadata": {},
   "outputs": [],
   "source": []
  },
  {
   "cell_type": "markdown",
   "metadata": {},
   "source": [
    "# Top Tracks\n"
   ]
  },
  {
   "cell_type": "code",
   "execution_count": 2,
   "metadata": {},
   "outputs": [],
   "source": [
    "import spotipy\n",
    "from spotipy import util\n",
    "from spotipy.oauth2 import SpotifyClientCredentials, SpotifyOAuth\n",
    "import pandas as pd\n",
    "import matplotlib.pyplot as plt\n",
    "import urllib\n",
    "\n",
    "## REMOVE CLIENT_ID AND CLIENT_SECRET BEFORE PUSHING ##\n",
    "\n",
    "#CLIENT_ID\n",
    "#CLIENT_SECRET\n",
    "USERNAME = 'elw86ve5g5t944wwlef6qyzu3' # Alex Fioto's user id\n",
    "SCOPE = 'playlist-modify-public user-top-read'\n",
    "LOCAL_REDIRECT_URI = 'http://127.0.0.1:8080'\n",
    "REDIRECT_URI = 'https://alexaurusrecs.herokuapp.com/'\n",
    "\n",
    "# Requesting access token\n",
    "token = util.prompt_for_user_token(username=USERNAME,\n",
    "                                   scope=SCOPE,\n",
    "                                   client_id=CLIENT_ID,\n",
    "                                   client_secret=CLIENT_SECRET,\n",
    "                                   redirect_uri=LOCAL_REDIRECT_URI) \n",
    "# Instantiating OAuth object\n",
    "spotify = spotipy.Spotify(auth=token)"
   ]
  },
  {
   "cell_type": "code",
   "execution_count": 3,
   "metadata": {},
   "outputs": [],
   "source": [
    "def user_tracks_dataframe(spotify, limit=10):\n",
    "    terms = ['short_term', 'medium_term', 'long_term']\n",
    "    df_list = []\n",
    "    for term in terms:\n",
    "        tracks = spotify.current_user_top_tracks(limit=limit, time_range=term)\n",
    "        track_names = [track['name'] for track in tracks['items']]\n",
    "        artist_list = []\n",
    "        for track in tracks['items']:\n",
    "            artists = ', '.join([artist['name'] for artist in track['artists']])\n",
    "            artist_list.append(artists)\n",
    "        df = pd.DataFrame(list(zip(track_names, artist_list)), \n",
    "                          columns = ['track_name', 'artist_name'])\n",
    "        df['time_range'] = term\n",
    "        df_list.append(df)\n",
    "    df = pd.concat(df_list)\n",
    "    df.reset_index(inplace=True, drop=True)\n",
    "    return df"
   ]
  },
  {
   "cell_type": "code",
   "execution_count": 4,
   "metadata": {},
   "outputs": [],
   "source": [
    "df = user_tracks_dataframe(spotify, limit=10)"
   ]
  },
  {
   "cell_type": "code",
   "execution_count": 5,
   "metadata": {},
   "outputs": [
    {
     "data": {
      "text/plain": [
       "{'track_name': {0: 'Blockbuster Night, Pt. 1',\n",
       "  1: 'WWIII',\n",
       "  2: 'Down (feat. Joi)',\n",
       "  3: 'Talk to Me',\n",
       "  4: 'Blood // Water',\n",
       "  5: 'Oh Mama',\n",
       "  6: 'Riptide',\n",
       "  7: 'Call Ticketron',\n",
       "  8: 'Popular Monster',\n",
       "  9: 'I Will Be Heard',\n",
       "  10: 'Blockbuster Night, Pt. 1',\n",
       "  11: 'When I Grow Up',\n",
       "  12: 'The Dark',\n",
       "  13: 'No Excuses',\n",
       "  14: 'Nate',\n",
       "  15: 'Returns',\n",
       "  16: 'PAID MY DUES',\n",
       "  17: 'The Search',\n",
       "  18: 'Leave Me Alone',\n",
       "  19: 'Blood // Water',\n",
       "  20: 'Blockbuster Night, Pt. 1',\n",
       "  21: 'When I Grow Up',\n",
       "  22: 'The Dark',\n",
       "  23: 'No Excuses',\n",
       "  24: 'Nate',\n",
       "  25: 'Returns',\n",
       "  26: 'PAID MY DUES',\n",
       "  27: 'The Search',\n",
       "  28: 'Leave Me Alone',\n",
       "  29: 'Blood // Water'},\n",
       " 'artist_name': {0: 'Run The Jewels',\n",
       "  1: 'grandson',\n",
       "  2: 'Run The Jewels, Joi',\n",
       "  3: 'Run The Jewels',\n",
       "  4: 'grandson',\n",
       "  5: 'Run The Jewels',\n",
       "  6: 'grandson',\n",
       "  7: 'Run The Jewels',\n",
       "  8: 'Falling In Reverse',\n",
       "  9: 'Hatebreed',\n",
       "  10: 'Run The Jewels',\n",
       "  11: 'NF',\n",
       "  12: 'LRKR',\n",
       "  13: 'NF',\n",
       "  14: 'NF',\n",
       "  15: 'NF',\n",
       "  16: 'NF',\n",
       "  17: 'NF',\n",
       "  18: 'NF',\n",
       "  19: 'grandson',\n",
       "  20: 'Run The Jewels',\n",
       "  21: 'NF',\n",
       "  22: 'LRKR',\n",
       "  23: 'NF',\n",
       "  24: 'NF',\n",
       "  25: 'NF',\n",
       "  26: 'NF',\n",
       "  27: 'NF',\n",
       "  28: 'NF',\n",
       "  29: 'grandson'},\n",
       " 'time_range': {0: 'short_term',\n",
       "  1: 'short_term',\n",
       "  2: 'short_term',\n",
       "  3: 'short_term',\n",
       "  4: 'short_term',\n",
       "  5: 'short_term',\n",
       "  6: 'short_term',\n",
       "  7: 'short_term',\n",
       "  8: 'short_term',\n",
       "  9: 'short_term',\n",
       "  10: 'medium_term',\n",
       "  11: 'medium_term',\n",
       "  12: 'medium_term',\n",
       "  13: 'medium_term',\n",
       "  14: 'medium_term',\n",
       "  15: 'medium_term',\n",
       "  16: 'medium_term',\n",
       "  17: 'medium_term',\n",
       "  18: 'medium_term',\n",
       "  19: 'medium_term',\n",
       "  20: 'long_term',\n",
       "  21: 'long_term',\n",
       "  22: 'long_term',\n",
       "  23: 'long_term',\n",
       "  24: 'long_term',\n",
       "  25: 'long_term',\n",
       "  26: 'long_term',\n",
       "  27: 'long_term',\n",
       "  28: 'long_term',\n",
       "  29: 'long_term'}}"
      ]
     },
     "execution_count": 5,
     "metadata": {},
     "output_type": "execute_result"
    }
   ],
   "source": [
    "track_dict = df.to_dict()\n",
    "track_dict"
   ]
  },
  {
   "cell_type": "code",
   "execution_count": 29,
   "metadata": {},
   "outputs": [
    {
     "name": "stdout",
     "output_type": "stream",
     "text": [
      "track_name {0: 'Blockbuster Night, Pt. 1', 1: 'Talk to Me', 2: 'WWIII', 3: 'Down (feat. Joi)', 4: 'Oh Mama', 5: 'Riptide', 6: 'Popular Monster', 7: 'Blood // Water', 8: 'I Will Be Heard', 9: 'yankee and the brave (ep. 4)', 10: 'Blockbuster Night, Pt. 1', 11: 'When I Grow Up', 12: 'The Dark', 13: 'No Excuses', 14: 'Nate', 15: 'Returns', 16: 'PAID MY DUES', 17: 'The Search', 18: 'Leave Me Alone', 19: 'The Visitor', 20: 'Blockbuster Night, Pt. 1', 21: 'When I Grow Up', 22: 'The Dark', 23: 'No Excuses', 24: 'Nate', 25: 'Returns', 26: 'PAID MY DUES', 27: 'The Search', 28: 'Leave Me Alone', 29: 'The Visitor'}\n",
      "artist_name {0: 'Run The Jewels', 1: 'Run The Jewels', 2: 'grandson', 3: 'Run The Jewels, Joi', 4: 'Run The Jewels', 5: 'grandson', 6: 'Falling In Reverse', 7: 'grandson', 8: 'Hatebreed', 9: 'Run The Jewels', 10: 'Run The Jewels', 11: 'NF', 12: 'LRKR', 13: 'NF', 14: 'NF', 15: 'NF', 16: 'NF', 17: 'NF', 18: 'NF', 19: 'Mad Zach', 20: 'Run The Jewels', 21: 'NF', 22: 'LRKR', 23: 'NF', 24: 'NF', 25: 'NF', 26: 'NF', 27: 'NF', 28: 'NF', 29: 'Mad Zach'}\n",
      "time_range {0: 'short_term', 1: 'short_term', 2: 'short_term', 3: 'short_term', 4: 'short_term', 5: 'short_term', 6: 'short_term', 7: 'short_term', 8: 'short_term', 9: 'short_term', 10: 'medium_term', 11: 'medium_term', 12: 'medium_term', 13: 'medium_term', 14: 'medium_term', 15: 'medium_term', 16: 'medium_term', 17: 'medium_term', 18: 'medium_term', 19: 'medium_term', 20: 'long_term', 21: 'long_term', 22: 'long_term', 23: 'long_term', 24: 'long_term', 25: 'long_term', 26: 'long_term', 27: 'long_term', 28: 'long_term', 29: 'long_term'}\n"
     ]
    }
   ],
   "source": [
    "for key, item in track_dict.items():\n",
    "    print(key, item)"
   ]
  },
  {
   "cell_type": "code",
   "execution_count": 31,
   "metadata": {},
   "outputs": [
    {
     "ename": "AttributeError",
     "evalue": "'dict' object has no attribute 'iterrows'",
     "output_type": "error",
     "traceback": [
      "\u001b[0;31m---------------------------------------------------------------------------\u001b[0m",
      "\u001b[0;31mAttributeError\u001b[0m                            Traceback (most recent call last)",
      "\u001b[0;32m<ipython-input-31-383c407762b5>\u001b[0m in \u001b[0;36m<module>\u001b[0;34m\u001b[0m\n\u001b[0;32m----> 1\u001b[0;31m \u001b[0;32mfor\u001b[0m \u001b[0mkey\u001b[0m\u001b[0;34m,\u001b[0m \u001b[0mvalue\u001b[0m \u001b[0;32min\u001b[0m \u001b[0mtrack_dict\u001b[0m\u001b[0;34m.\u001b[0m\u001b[0miterrows\u001b[0m\u001b[0;34m(\u001b[0m\u001b[0;34m)\u001b[0m\u001b[0;34m:\u001b[0m\u001b[0;34m\u001b[0m\u001b[0;34m\u001b[0m\u001b[0m\n\u001b[0m\u001b[1;32m      2\u001b[0m     \u001b[0mprint\u001b[0m\u001b[0;34m(\u001b[0m\u001b[0mvalue\u001b[0m\u001b[0;34m[\u001b[0m\u001b[0;34m'track_name'\u001b[0m\u001b[0;34m]\u001b[0m\u001b[0;34m)\u001b[0m\u001b[0;34m\u001b[0m\u001b[0;34m\u001b[0m\u001b[0m\n",
      "\u001b[0;31mAttributeError\u001b[0m: 'dict' object has no attribute 'iterrows'"
     ]
    }
   ],
   "source": [
    "for key, value in track_dict.iterrows():\n",
    "    print(value['track_name'])"
   ]
  },
  {
   "cell_type": "code",
   "execution_count": 34,
   "metadata": {},
   "outputs": [
    {
     "name": "stdout",
     "output_type": "stream",
     "text": [
      "0 Blockbuster Night, Pt. 1\n",
      "1 Talk to Me\n",
      "2 WWIII\n",
      "3 Down (feat. Joi)\n",
      "4 Oh Mama\n",
      "5 Riptide\n",
      "6 Popular Monster\n",
      "7 Blood // Water\n",
      "8 I Will Be Heard\n",
      "9 yankee and the brave (ep. 4)\n",
      "10 Blockbuster Night, Pt. 1\n",
      "11 When I Grow Up\n",
      "12 The Dark\n",
      "13 No Excuses\n",
      "14 Nate\n",
      "15 Returns\n",
      "16 PAID MY DUES\n",
      "17 The Search\n",
      "18 Leave Me Alone\n",
      "19 The Visitor\n",
      "20 Blockbuster Night, Pt. 1\n",
      "21 When I Grow Up\n",
      "22 The Dark\n",
      "23 No Excuses\n",
      "24 Nate\n",
      "25 Returns\n",
      "26 PAID MY DUES\n",
      "27 The Search\n",
      "28 Leave Me Alone\n",
      "29 The Visitor\n"
     ]
    }
   ],
   "source": [
    "for key, value in df.iterrows():\n",
    "    print(key, value['track_name'])"
   ]
  },
  {
   "cell_type": "code",
   "execution_count": 37,
   "metadata": {},
   "outputs": [
    {
     "name": "stdout",
     "output_type": "stream",
     "text": [
      "Track Name\n",
      "Artist Name\n",
      "Time Range\n"
     ]
    }
   ],
   "source": [
    "for column in df.columns:\n",
    "    print(column.replace('_', ' ').title())"
   ]
  },
  {
   "cell_type": "markdown",
   "metadata": {},
   "source": [
    "## Get Playlist Embeddings"
   ]
  },
  {
   "cell_type": "code",
   "execution_count": null,
   "metadata": {},
   "outputs": [],
   "source": [
    "def get_playlist_embeddings(spotify):\n",
    "    '''\n",
    "    Takes in user authentication object and returns HTML embedding codes for user playlists\n",
    "    '''\n",
    "    playlists = spotify.current_user_playlists()\n",
    "    playlist_ids = [playlist['id'] for playlist in playlists['items']]\n",
    "    embed_code = '<iframe src=\"https://open.spotify.com/embed/playlist/####\" width=\"300\" height=\"380\" frameborder=\"0\" allowtransparency=\"true\" allow=\"encrypted-media\"></iframe>'\n",
    "    codes = ' '.join([embed_code.replace('####', playlist_id) for playlist_id in playlist_ids])\n",
    "    return codes"
   ]
  },
  {
   "cell_type": "code",
   "execution_count": null,
   "metadata": {},
   "outputs": [],
   "source": []
  },
  {
   "cell_type": "markdown",
   "metadata": {},
   "source": [
    "## Pull User Tracks Return Dataframe"
   ]
  },
  {
   "cell_type": "code",
   "execution_count": null,
   "metadata": {},
   "outputs": [],
   "source": [
    "def user_tracks_dataframe(spotify, limit=10):\n",
    "    '''\n",
    "    This function takes in a spotify user authenication object and a limit of songs.\n",
    "    Return a pandas data frame with users top tracks (names and artists) \n",
    "    within short, medium and long-term time-ranges\n",
    "\n",
    "    '''\n",
    "    terms = ['short_term', 'medium_term', 'long_term']\n",
    "    df_list = []\n",
    "    for term in terms:\n",
    "        tracks = spotify.current_user_top_tracks(limit=limit, time_range=term)\n",
    "        track_names = [track['name'] for track in tracks['items']]\n",
    "        artist_list = []\n",
    "        for track in tracks['items']:\n",
    "            artists = ', '.join([artist['name'] for artist in track['artists']])\n",
    "            artist_list.append(artists)\n",
    "        df = pd.DataFrame(list(zip(track_names, artist_list)), \n",
    "                          columns = ['track_name', 'artist_name'])\n",
    "        df['time_range'] = term\n",
    "        df_list.append(df)\n",
    "    df = pd.concat(df_list)\n",
    "    df.reset_index(inplace=True, drop=True)\n",
    "    return df\n",
    "        "
   ]
  }
 ],
 "metadata": {
  "kernelspec": {
   "display_name": "Python 3",
   "language": "python",
   "name": "python3"
  },
  "language_info": {
   "codemirror_mode": {
    "name": "ipython",
    "version": 3
   },
   "file_extension": ".py",
   "mimetype": "text/x-python",
   "name": "python",
   "nbconvert_exporter": "python",
   "pygments_lexer": "ipython3",
   "version": "3.7.7"
  }
 },
 "nbformat": 4,
 "nbformat_minor": 4
}
