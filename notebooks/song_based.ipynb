{
 "cells": [
  {
   "cell_type": "markdown",
   "metadata": {},
   "source": [
    "# Song Based Recommender"
   ]
  },
  {
   "cell_type": "code",
   "execution_count": 25,
   "metadata": {},
   "outputs": [],
   "source": [
    "#CLIENT_ID=*SEE NOTES*\n",
    "#CLIENT_SECRET=*SEE NOTES*\n"
   ]
  },
  {
   "cell_type": "code",
   "execution_count": 26,
   "metadata": {},
   "outputs": [],
   "source": [
    "blockbuster = 'spotify:track:5jQYkYhoOlBW4vJ2l4TCxl' # Test track from Run the Jewels"
   ]
  },
  {
   "cell_type": "code",
   "execution_count": 27,
   "metadata": {},
   "outputs": [],
   "source": [
    "import spotipy\n",
    "from spotipy import util\n",
    "from spotipy.oauth2 import SpotifyClientCredentials, SpotifyOAuth\n",
    "import pandas as pd\n",
    "import matplotlib.pyplot as plt\n",
    "import urllib\n",
    "\n",
    "## REMOVE CLIENT_ID AND CLIENT_SECRET BEFORE PUSHING ##\n",
    "\n",
    "#CLIENT_ID\n",
    "#CLIENT_SECRET\n",
    "USERNAME = 'elw86ve5g5t944wwlef6qyzu3' # Alex Fioto's user id\n",
    "SCOPE = 'playlist-modify-public user-top-read'\n",
    "LOCAL_REDIRECT_URI = 'http://127.0.0.1:8080'\n",
    "REDIRECT_URI = 'https://fioto-spotify-flask.herokuapp.com/'\n",
    "\n",
    "# Requesting access token\n",
    "token = util.prompt_for_user_token(username=USERNAME,\n",
    "                                   scope=SCOPE,\n",
    "                                   client_id=CLIENT_ID,\n",
    "                                   client_secret=CLIENT_SECRET,\n",
    "                                   redirect_uri=LOCAL_REDIRECT_URI) \n",
    "# Instantiating OAuth object\n",
    "spotify = spotipy.Spotify(auth=token)"
   ]
  },
  {
   "cell_type": "code",
   "execution_count": 13,
   "metadata": {},
   "outputs": [
    {
     "ename": "TypeError",
     "evalue": "'NoneType' object is not subscriptable",
     "output_type": "error",
     "traceback": [
      "\u001b[0;31m---------------------------------------------------------------------------\u001b[0m",
      "\u001b[0;31mTypeError\u001b[0m                                 Traceback (most recent call last)",
      "\u001b[0;32m<ipython-input-13-052ad0088bc8>\u001b[0m in \u001b[0;36m<module>\u001b[0;34m\u001b[0m\n\u001b[0;32m----> 1\u001b[0;31m \u001b[0muri\u001b[0m \u001b[0;34m=\u001b[0m \u001b[0msp\u001b[0m\u001b[0;34m.\u001b[0m\u001b[0mcurrent_user_playing_track\u001b[0m\u001b[0;34m(\u001b[0m\u001b[0;34m)\u001b[0m\u001b[0;34m[\u001b[0m\u001b[0;34m'item'\u001b[0m\u001b[0;34m]\u001b[0m\u001b[0;34m[\u001b[0m\u001b[0;34m'uri'\u001b[0m\u001b[0;34m]\u001b[0m\u001b[0;34m\u001b[0m\u001b[0;34m\u001b[0m\u001b[0m\n\u001b[0m\u001b[1;32m      2\u001b[0m \u001b[0;32mdef\u001b[0m \u001b[0malbum_art_url\u001b[0m\u001b[0;34m(\u001b[0m\u001b[0mtrack_uri\u001b[0m\u001b[0;34m)\u001b[0m\u001b[0;34m:\u001b[0m\u001b[0;34m\u001b[0m\u001b[0;34m\u001b[0m\u001b[0m\n\u001b[1;32m      3\u001b[0m     '''\n\u001b[1;32m      4\u001b[0m     \u001b[0mRetrieves\u001b[0m \u001b[0malbum\u001b[0m \u001b[0mart\u001b[0m \u001b[0murl\u001b[0m\u001b[0;34m\u001b[0m\u001b[0;34m\u001b[0m\u001b[0m\n\u001b[1;32m      5\u001b[0m \u001b[0;34m\u001b[0m\u001b[0m\n",
      "\u001b[0;31mTypeError\u001b[0m: 'NoneType' object is not subscriptable"
     ]
    }
   ],
   "source": [
    "uri = sp.current_user_playing_track()['item']['uri']\n",
    "def album_art_url(track_uri):\n",
    "    '''\n",
    "    Retrieves album art url\n",
    "    \n",
    "    Parameters:\n",
    "    uri: Spotify track URI\n",
    "    '''\n",
    "    \n",
    "    # Getting track object\n",
    "    track = sp.track(track_uri)\n",
    "    \n",
    "    # Extracting image URL \n",
    "    url = track['album']['images'][0]['url']\n",
    "    \n",
    "    return url\n",
    "\n",
    "album_art_url(uri)"
   ]
  },
  {
   "cell_type": "code",
   "execution_count": null,
   "metadata": {},
   "outputs": [],
   "source": [
    "sp.recommendation_genre_seeds()['genres']"
   ]
  },
  {
   "cell_type": "code",
   "execution_count": null,
   "metadata": {},
   "outputs": [],
   "source": [
    "def show_album_art(track_uri):\n",
    "    '''\n",
    "    Retrieves and displays album art for a given track on Spotify\n",
    "    \n",
    "    Parameters:\n",
    "    uri: Spotify track URI\n",
    "    '''\n",
    "    \n",
    "    # Getting track object\n",
    "    track = sp.track(track_uri)\n",
    "    \n",
    "    # Extracting image URL \n",
    "    url = track['album']['images'][0]['url']\n",
    "    \n",
    "    # Creating file object\n",
    "    f = urllib.request.urlopen(url)\n",
    "    \n",
    "    # Creating an matplotlib image read object specifying jpg format\n",
    "    a = plt.imread(f, format='jpg')\n",
    "    \n",
    "    # Turning off axis\n",
    "    plt.axis(False)\n",
    "    \n",
    "    # Showing image\n",
    "    plt.imshow(a);\n",
    "    return url"
   ]
  },
  {
   "cell_type": "code",
   "execution_count": 88,
   "metadata": {},
   "outputs": [
    {
     "data": {
      "text/plain": [
       "'https://i.scdn.co/image/ab67616d0000b273698d813e6d29d9f3848b4306'"
      ]
     },
     "execution_count": 88,
     "metadata": {},
     "output_type": "execute_result"
    },
    {
     "data": {
      "image/png": "[encoded data removed]",
      "text/plain": [
       "<Figure size 432x288 with 1 Axes>"
      ]
     },
     "metadata": {
      "needs_background": "light"
     },
     "output_type": "display_data"
    }
   ],
   "source": [
    "heat_waves = 'spotify:track:0BHStoRqbogddXgezqumz3'\n",
    "uri = '2HLj3bbq6NIxKAK3GzStU5'\n",
    "show_album_art(uri)"
   ]
  },
  {
   "cell_type": "code",
   "execution_count": 132,
   "metadata": {},
   "outputs": [],
   "source": [
    "def spotify_uri_search(search, type='album', limit=10):\n",
    "    '''\n",
    "    Search for a Spotify track, album, playlist, show or episode URI. \n",
    "    \n",
    "    Parameters:\n",
    "    search: search string\n",
    "    \n",
    "    type: type of uri. Choose from track, album, playlist, show or episode URI. \n",
    "    \n",
    "    limit: integer limit to return. 0-50\n",
    "    '''\n",
    "    # Creating empty results list and results dictionary\n",
    "    if limit > 50 or limit < 1:\n",
    "        raise TypeError('Limit needs to be an integer between 1-50')\n",
    "    results = []\n",
    "    res_dict = {}\n",
    "\n",
    "     # Replacing spaces with + \n",
    "    q = search.replace(' ', '+')\n",
    "\n",
    "    # Creating search object\n",
    "    res = sp.search(q=q, limit=limit, type=type,)\n",
    "\n",
    "    # Selecting all of the tracks in search object\n",
    "    tracks = res[type+'s']['items']\n",
    "    \n",
    "    # Iterating through tracks or albums \n",
    "    for item in tracks:\n",
    "        # Creating result dictionary entry\n",
    "        res_dict[item['name']] = item['uri']\n",
    "        \n",
    "        # Adding name of track or album along with the artists to results\n",
    "        results.append(item['name'] + ' BY ' + item['artists'][0]['name'])\n",
    "    \n",
    "    # Printing results for user to decide which album\n",
    "    for i in range(len(results)):\n",
    "        print(f'{i}: {type}: {results[i]}')\n",
    "        \n",
    "    # Requesting user input for correct choice\n",
    "    response = input('Please select a valid index')\n",
    "    \n",
    "    # Selecting appropriate Spotify URI\n",
    "    uri = res_dict.get(results[int(response)].split(' BY ')[0])\n",
    "    \n",
    "    return uri"
   ]
  },
  {
   "cell_type": "code",
   "execution_count": 133,
   "metadata": {},
   "outputs": [
    {
     "name": "stdout",
     "output_type": "stream",
     "text": [
      "0: track: Cheesecake BY Billy Marchiafava\n",
      "1: track: Cheeseburger In Paradise BY Jimmy Buffett\n",
      "2: track: cheese BY Bal3an\n",
      "3: track: Cheeseburger Family BY Jack Stauber's Micropop\n",
      "4: track: Cheese and Dope BY Project Pat\n",
      "5: track: Cheese BY Jack Stauber's Micropop\n",
      "6: track: CHEESE STRINGS BY Yxngxr1\n",
      "7: track: Cheese & Wine BY DPR LIVE\n",
      "8: track: Cheese Distortion BY Broke Silence\n",
      "9: track: Cheese Time BY GBoomer\n",
      "10: track: Cheese BY Effin\n",
      "11: track: Cheese BY Pesiepol\n",
      "12: track: Cheese BY The Floozies\n",
      "13: track: Cheese is Everywhere: Describing a Night Out BY Aziz Ansari\n",
      "14: track: Cheesed off BY vensterbank\n",
      "15: track: Cheese BY Tiago Rosa\n",
      "16: track: Cheese Wine And Fine BY Poky\n",
      "17: track: Chucky Cheese BY MadeinTYO\n",
      "18: track: Cheesesteaks BY Vinnie Paz\n",
      "19: track: Cheese Angle District BY Flocotronic\n",
      "20: track: Cheese & Broccoli BY Swift2cali\n",
      "21: track: Cheese Head BY SL Moon\n",
      "22: track: Cheese Cheater BY Mr Gamble\n",
      "23: track: Cheese Is Overrated BY The Alchemist\n",
      "24: track: Cheese Cake - Remastered 1999/Rudy Van Gelder Edition BY Dexter Gordon\n",
      "25: track: Cheese - Jackin Mix BY Enrico Bsj Ferrari\n",
      "26: track: Cheese BY Geoxor\n",
      "27: track: Cheesewheel BY Ron White\n",
      "28: track: Cheese BY Lukrembo\n",
      "29: track: Cheesecake BY Camaros\n"
     ]
    },
    {
     "name": "stdin",
     "output_type": "stream",
     "text": [
      "Please select a valid index 4\n"
     ]
    }
   ],
   "source": [
    "res = spotify_uri_search('cheese', type='track', limit=30)"
   ]
  },
  {
   "cell_type": "code",
   "execution_count": 134,
   "metadata": {},
   "outputs": [
    {
     "data": {
      "text/plain": [
       "'spotify:track:2iiCDhPr51If2XCDQJJ0nC'"
      ]
     },
     "execution_count": 134,
     "metadata": {},
     "output_type": "execute_result"
    }
   ],
   "source": [
    "res"
   ]
  },
  {
   "cell_type": "code",
   "execution_count": 3,
   "metadata": {},
   "outputs": [],
   "source": [
    "from sklearn.metrics.pairwise import pairwise_distances, cosine_distances, cosine_similarity\n",
    "import pandas as pd\n",
    "pd.set_option(\"display.precision\", 14)"
   ]
  },
  {
   "cell_type": "code",
   "execution_count": 4,
   "metadata": {},
   "outputs": [],
   "source": [
    "def recommend_songs(spotify, artists=None, genres=None, tracks=None, limit=100, n_tracks=10, listener_based=True, time_range='medium_term', drop_cols=[]):\n",
    "    '''\n",
    "    This function will recommend songs based on a seed artist, seed genres and/or seed tracks.\n",
    "    The searched songs will be compared to user top tracks and return only those songs with the \n",
    "    highest cosine similarity.\n",
    "   \n",
    "    Parameters:\n",
    "    \n",
    "    drop_cols: columns to drop from numeric featue comparison. Choose from: danceability\n",
    "                                                                            energy\n",
    "                                                                            key\n",
    "                                                                            loudness\n",
    "                                                                            mode\n",
    "                                                                            speechiness\n",
    "                                                                            acousticness\n",
    "                                                                            instrumentalness\n",
    "                                                                            liveness\n",
    "                                                                            valence\n",
    "                                                                            tempo\n",
    "    '''\n",
    "    \n",
    "    # Fetching Spotify recommendations \n",
    "    recs = spotify.recommendations(seed_artists=artists, seed_genres=genres, seed_tracks=tracks, limit=limit)\n",
    "    \n",
    "    # Saving lists of track names and URIs of recommended tracks\n",
    "    rec_track_names = [track['name'] for track in recs['tracks']]\n",
    "    uris = [track['uri'] for track in recs['tracks']]\n",
    "    \n",
    "    # Creating audio features dataframe of recommended tracks\n",
    "    rec_df = pd.DataFrame.from_dict(spotify.audio_features(uris))\n",
    "    rec_df['track_name'] = rec_track_names\n",
    "    rec_df['uri'] = uris\n",
    "    \n",
    "    # If not listener based, returning list of URIs for Spotify recommended songs\n",
    "    if not listener_based:\n",
    "        return list(rec_df[:n_tracks]['uri'])\n",
    "    \n",
    "    else: # If listener based\n",
    "        \n",
    "        # Fetching user top tracks\n",
    "        user_tracks = spotify.current_user_top_tracks(limit=n_tracks, time_range=time_range)\n",
    "        \n",
    "        # Saving lists of track names and URIs of user top tracks\n",
    "        user_track_names = [track['name'] for track in user_tracks['items']]\n",
    "        uris = [track['uri'] for track in user_tracks['items']]\n",
    "        \n",
    "        # Creating audio features dataframe of user top_tracks\n",
    "        user_df = pd.DataFrame.from_dict(spotify.audio_features(uris))\n",
    "        user_df['track_name'] = user_track_names\n",
    "        user_df['uri'] = uris\n",
    "        \n",
    "        # Setting new dataframes of only numeric features to be compared\n",
    "        rec_df_numeric = rec_df.loc[:, rec_df.columns[:11]]\n",
    "        user_df_numeric = user_df.loc[:, user_df.columns[:11]]\n",
    "        \n",
    "        # If drop_cols, dropping appropriate columns from each numeric dataframe\n",
    "        if drop_cols:\n",
    "            rec_df_numeric.drop(drop_cols, inplace=True, axis=1)\n",
    "            user_df_numeric.drop(drop_cols, inplace=True, axis=1)\n",
    "              \n",
    "        \n",
    "        comps = pairwise_distances(rec_df_numeric, user_df_numeric, metric='cosine')\n",
    "        comps_df = pd.DataFrame(comps, columns=user_track_names, index=rec_track_names)\n",
    "        comps_df = 1 - comps_df\n",
    "        comps_df.drop_duplicates(inplace=True)\n",
    "        \n",
    "        song_list = []\n",
    "    \n",
    "        for user_track in comps_df.columns:\n",
    "            max_cosine = comps_df[user_track].max()\n",
    "            song_name = comps_df[comps_df[user_track] == max_cosine].index[0]\n",
    "            song_uri = list(rec_df.loc[rec_df['track_name'] == song_name, 'uri'])[0]\n",
    "            #print(f'{user_track}------ closest to ---------> {song_name}')\n",
    "            song_list.append((song_name, song_uri))\n",
    "\n",
    "        uri_list = []\n",
    "        [uri_list.append(track[1]) for track in song_list if track[1] not in uri_list]\n",
    "    \n",
    "    \n",
    "        return uri_list"
   ]
  },
  {
   "cell_type": "code",
   "execution_count": 77,
   "metadata": {},
   "outputs": [],
   "source": [
    "blockbuster = 'spotify:track:5jQYkYhoOlBW4vJ2l4TCxl'\n",
    "blockbuster_b = '5jQYkYhoOlBW4vJ2l4TCxl'\n",
    "playlist_uris = recommend_songs(sp, \n",
    "                           tracks=[blockbuster_b],\n",
    "                           listener_based=True,\n",
    "                           n_tracks=24,\n",
    "                           genres=['']\n",
    "                           )"
   ]
  },
  {
   "cell_type": "code",
   "execution_count": 5,
   "metadata": {},
   "outputs": [],
   "source": [
    "test = 'https://open.spotify.com/track/0cG6z63opd1xEcaKaC1CKw?si=on83eDH2Siy6Jbnu8fLMQQ'\n",
    "test2 = 'https://open.spotify.com/track/0cG6z63opd1xEcaKaC1CKw'\n",
    "def parse_spotify_link(link):\n",
    "    if '?' in link:\n",
    "        return link.split('/')[-1].split('?')[0]\n",
    "    else:\n",
    "        return link.split('/')[-1]"
   ]
  },
  {
   "cell_type": "code",
   "execution_count": 15,
   "metadata": {},
   "outputs": [
    {
     "data": {
      "text/plain": [
       "'0cG6z63opd1xEcaKaC1CKw'"
      ]
     },
     "execution_count": 15,
     "metadata": {},
     "output_type": "execute_result"
    }
   ],
   "source": [
    "parse_spotify_link(test)"
   ]
  },
  {
   "cell_type": "code",
   "execution_count": 7,
   "metadata": {},
   "outputs": [],
   "source": [
    "def make_playlist(spotify, playlist_uris, playlist_name):\n",
    "    user = spotify.current_user()['id']\n",
    "    playlist = spotify.user_playlist_create(user=user, name=playlist_name, public=True)\n",
    "    playlist_id = playlist['id']\n",
    "    spotify.user_playlist_add_tracks(user=user,\n",
    "                                     playlist_id=playlist_id,\n",
    "                                     tracks=playlist_uris)"
   ]
  },
  {
   "cell_type": "code",
   "execution_count": 58,
   "metadata": {},
   "outputs": [
    {
     "data": {
      "text/plain": [
       "'Jupyter List'"
      ]
     },
     "execution_count": 58,
     "metadata": {},
     "output_type": "execute_result"
    }
   ],
   "source": [
    "make_playlist(sp, uri_list, \"Jupyter List\")"
   ]
  },
  {
   "cell_type": "code",
   "execution_count": 31,
   "metadata": {},
   "outputs": [
    {
     "data": {
      "text/plain": [
       "{'collaborative': False,\n",
       " 'description': '',\n",
       " 'external_urls': {'spotify': 'https://open.spotify.com/playlist/4A52N31Ob9FOuGIF8njHiq'},\n",
       " 'followers': {'href': None, 'total': 0},\n",
       " 'href': 'https://api.spotify.com/v1/playlists/4A52N31Ob9FOuGIF8njHiq',\n",
       " 'id': '4A52N31Ob9FOuGIF8njHiq',\n",
       " 'images': [],\n",
       " 'name': 'Coolest',\n",
       " 'owner': {'display_name': 'Alex Fioto',\n",
       "  'external_urls': {'spotify': 'https://open.spotify.com/user/elw86ve5g5t944wwlef6qyzu3'},\n",
       "  'href': 'https://api.spotify.com/v1/users/elw86ve5g5t944wwlef6qyzu3',\n",
       "  'id': 'elw86ve5g5t944wwlef6qyzu3',\n",
       "  'type': 'user',\n",
       "  'uri': 'spotify:user:elw86ve5g5t944wwlef6qyzu3'},\n",
       " 'primary_color': None,\n",
       " 'public': True,\n",
       " 'snapshot_id': 'MSxiNjliYmNiYmI5OWZkYWE5Nzg4MjcxOWFmMjljNDZmMjA1NmRkNGYy',\n",
       " 'tracks': {'href': 'https://api.spotify.com/v1/playlists/4A52N31Ob9FOuGIF8njHiq/tracks',\n",
       "  'items': [],\n",
       "  'limit': 100,\n",
       "  'next': None,\n",
       "  'offset': 0,\n",
       "  'previous': None,\n",
       "  'total': 0},\n",
       " 'type': 'playlist',\n",
       " 'uri': 'spotify:playlist:4A52N31Ob9FOuGIF8njHiq'}"
      ]
     },
     "execution_count": 31,
     "metadata": {},
     "output_type": "execute_result"
    }
   ],
   "source": [
    "user = spotify.current_user()['id']\n",
    "spotify.user_playlist_create(user=user, name='Coolest', public=True)"
   ]
  },
  {
   "cell_type": "code",
   "execution_count": null,
   "metadata": {},
   "outputs": [],
   "source": []
  },
  {
   "cell_type": "code",
   "execution_count": 22,
   "metadata": {},
   "outputs": [],
   "source": [
    "user_input = {\n",
    "  \"link\": \"https://open.spotify.com/track/0cG6z63opd1xEcaKaC1CKw\", \n",
    "  \"n_tracks\": \"4\", \n",
    "  \"playlist_name\": \"Testing Testing\", \n",
    "  \"selected_genre\": \"ambient\", \n",
    "  \"time_range\": \"long_term\"\n",
    "}"
   ]
  },
  {
   "cell_type": "code",
   "execution_count": 23,
   "metadata": {},
   "outputs": [
    {
     "data": {
      "text/plain": [
       "'Testing Testing'"
      ]
     },
     "execution_count": 23,
     "metadata": {},
     "output_type": "execute_result"
    }
   ],
   "source": [
    "uri = parse_spotify_link(user_input['link'])\n",
    "genre = user_input['selected_genre']\n",
    "if user_input['time_range']:\n",
    "    listener_based = True\n",
    "else:\n",
    "    listener_based = False\n",
    "\n",
    "time_range = user_input['time_range']\n",
    "n_tracks = int(user_input['n_tracks'])\n",
    "playlist_name = user_input['playlist_name']\n",
    "\n",
    "\n",
    "playlist_uris = recommend_songs(spotify, listener_based=listener_based, genres=[genre], tracks=[uri], n_tracks=n_tracks, time_range=time_range)\n",
    "\n",
    "make_playlist(spotify, playlist_uris, playlist_name)"
   ]
  }
 ],
 "metadata": {
  "kernelspec": {
   "display_name": "Python 3",
   "language": "python",
   "name": "python3"
  },
  "language_info": {
   "codemirror_mode": {
    "name": "ipython",
    "version": 3
   },
   "file_extension": ".py",
   "mimetype": "text/x-python",
   "name": "python",
   "nbconvert_exporter": "python",
   "pygments_lexer": "ipython3",
   "version": "3.7.7"
  }
 },
 "nbformat": 4,
 "nbformat_minor": 4
}
