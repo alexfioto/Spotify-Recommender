{
 "cells": [
  {
   "cell_type": "code",
   "execution_count": 1,
   "metadata": {},
   "outputs": [],
   "source": [
    "#CLIENT_ID=*SEE NOTES*\n",
    "#CLIENT_SECRET=*SEE NOTES*\n"
   ]
  },
  {
   "cell_type": "code",
   "execution_count": 2,
   "metadata": {},
   "outputs": [],
   "source": [
    "import spotipy\n",
    "from spotipy import util\n",
    "from spotipy.oauth2 import SpotifyClientCredentials, SpotifyOAuth\n",
    "import pandas as pd\n",
    "import matplotlib.pyplot as plt\n",
    "import urllib\n",
    "\n",
    "## REMOVE CLIENT_ID AND CLIENT_SECRET BEFORE PUSHING ##\n",
    "\n",
    "#CLIENT_ID\n",
    "#CLIENT_SECRET\n",
    "USERNAME = 'elw86ve5g5t944wwlef6qyzu3' # Alex Fioto's user id\n",
    "SCOPE = 'playlist-modify-public user-top-read'\n",
    "LOCAL_REDIRECT_URI = 'http://127.0.0.1:8080'\n",
    "REDIRECT_URI = 'https://alexaurusrecs.herokuapp.com/'\n",
    "\n",
    "# Requesting access token\n",
    "token = util.prompt_for_user_token(username=USERNAME,\n",
    "                                   scope=SCOPE,\n",
    "                                   client_id=CLIENT_ID,\n",
    "                                   client_secret=CLIENT_SECRET,\n",
    "                                   redirect_uri=LOCAL_REDIRECT_URI) \n",
    "# Instantiating OAuth object\n",
    "spotify = spotipy.Spotify(auth=token)"
   ]
  },
  {
   "cell_type": "code",
   "execution_count": 3,
   "metadata": {},
   "outputs": [],
   "source": [
    "def user_tracks_dataframe(spotify, limit=10):\n",
    "    terms = ['short_term', 'medium_term', 'long_term']\n",
    "    df_list = []\n",
    "    for term in terms:\n",
    "        tracks = spotify.current_user_top_tracks(limit=limit, time_range=term)\n",
    "        track_names = [track['name'] for track in tracks['items']]\n",
    "        artist_list = []\n",
    "        for track in tracks['items']:\n",
    "            artists = ', '.join([artist['name'] for artist in track['artists']])\n",
    "            artist_list.append(artists)\n",
    "        df = pd.DataFrame(list(zip(track_names, artist_list)), \n",
    "                          columns = ['track_name', 'artist_name'])\n",
    "        df['time_range'] = term\n",
    "        df_list.append(df)\n",
    "    df = pd.concat(df_list)\n",
    "    df.reset_index(inplace=True, drop=True)\n",
    "    return df"
   ]
  },
  {
   "cell_type": "code",
   "execution_count": 4,
   "metadata": {},
   "outputs": [],
   "source": [
    "df = user_tracks_dataframe(spotify, limit=10)"
   ]
  },
  {
   "cell_type": "code",
   "execution_count": 5,
   "metadata": {},
   "outputs": [
    {
     "data": {
      "text/plain": [
       "{'track_name': {0: 'Blockbuster Night, Pt. 1',\n",
       "  1: 'WWIII',\n",
       "  2: 'Down (feat. Joi)',\n",
       "  3: 'Talk to Me',\n",
       "  4: 'Blood // Water',\n",
       "  5: 'Oh Mama',\n",
       "  6: 'Riptide',\n",
       "  7: 'Call Ticketron',\n",
       "  8: 'Popular Monster',\n",
       "  9: 'I Will Be Heard',\n",
       "  10: 'Blockbuster Night, Pt. 1',\n",
       "  11: 'When I Grow Up',\n",
       "  12: 'The Dark',\n",
       "  13: 'No Excuses',\n",
       "  14: 'Nate',\n",
       "  15: 'Returns',\n",
       "  16: 'PAID MY DUES',\n",
       "  17: 'The Search',\n",
       "  18: 'Leave Me Alone',\n",
       "  19: 'Blood // Water',\n",
       "  20: 'Blockbuster Night, Pt. 1',\n",
       "  21: 'When I Grow Up',\n",
       "  22: 'The Dark',\n",
       "  23: 'No Excuses',\n",
       "  24: 'Nate',\n",
       "  25: 'Returns',\n",
       "  26: 'PAID MY DUES',\n",
       "  27: 'The Search',\n",
       "  28: 'Leave Me Alone',\n",
       "  29: 'Blood // Water'},\n",
       " 'artist_name': {0: 'Run The Jewels',\n",
       "  1: 'grandson',\n",
       "  2: 'Run The Jewels, Joi',\n",
       "  3: 'Run The Jewels',\n",
       "  4: 'grandson',\n",
       "  5: 'Run The Jewels',\n",
       "  6: 'grandson',\n",
       "  7: 'Run The Jewels',\n",
       "  8: 'Falling In Reverse',\n",
       "  9: 'Hatebreed',\n",
       "  10: 'Run The Jewels',\n",
       "  11: 'NF',\n",
       "  12: 'LRKR',\n",
       "  13: 'NF',\n",
       "  14: 'NF',\n",
       "  15: 'NF',\n",
       "  16: 'NF',\n",
       "  17: 'NF',\n",
       "  18: 'NF',\n",
       "  19: 'grandson',\n",
       "  20: 'Run The Jewels',\n",
       "  21: 'NF',\n",
       "  22: 'LRKR',\n",
       "  23: 'NF',\n",
       "  24: 'NF',\n",
       "  25: 'NF',\n",
       "  26: 'NF',\n",
       "  27: 'NF',\n",
       "  28: 'NF',\n",
       "  29: 'grandson'},\n",
       " 'time_range': {0: 'short_term',\n",
       "  1: 'short_term',\n",
       "  2: 'short_term',\n",
       "  3: 'short_term',\n",
       "  4: 'short_term',\n",
       "  5: 'short_term',\n",
       "  6: 'short_term',\n",
       "  7: 'short_term',\n",
       "  8: 'short_term',\n",
       "  9: 'short_term',\n",
       "  10: 'medium_term',\n",
       "  11: 'medium_term',\n",
       "  12: 'medium_term',\n",
       "  13: 'medium_term',\n",
       "  14: 'medium_term',\n",
       "  15: 'medium_term',\n",
       "  16: 'medium_term',\n",
       "  17: 'medium_term',\n",
       "  18: 'medium_term',\n",
       "  19: 'medium_term',\n",
       "  20: 'long_term',\n",
       "  21: 'long_term',\n",
       "  22: 'long_term',\n",
       "  23: 'long_term',\n",
       "  24: 'long_term',\n",
       "  25: 'long_term',\n",
       "  26: 'long_term',\n",
       "  27: 'long_term',\n",
       "  28: 'long_term',\n",
       "  29: 'long_term'}}"
      ]
     },
     "execution_count": 5,
     "metadata": {},
     "output_type": "execute_result"
    }
   ],
   "source": [
    "track_dict = df.to_dict()\n",
    "track_dict"
   ]
  },
  {
   "cell_type": "code",
   "execution_count": 29,
   "metadata": {},
   "outputs": [
    {
     "name": "stdout",
     "output_type": "stream",
     "text": [
      "track_name {0: 'Blockbuster Night, Pt. 1', 1: 'Talk to Me', 2: 'WWIII', 3: 'Down (feat. Joi)', 4: 'Oh Mama', 5: 'Riptide', 6: 'Popular Monster', 7: 'Blood // Water', 8: 'I Will Be Heard', 9: 'yankee and the brave (ep. 4)', 10: 'Blockbuster Night, Pt. 1', 11: 'When I Grow Up', 12: 'The Dark', 13: 'No Excuses', 14: 'Nate', 15: 'Returns', 16: 'PAID MY DUES', 17: 'The Search', 18: 'Leave Me Alone', 19: 'The Visitor', 20: 'Blockbuster Night, Pt. 1', 21: 'When I Grow Up', 22: 'The Dark', 23: 'No Excuses', 24: 'Nate', 25: 'Returns', 26: 'PAID MY DUES', 27: 'The Search', 28: 'Leave Me Alone', 29: 'The Visitor'}\n",
      "artist_name {0: 'Run The Jewels', 1: 'Run The Jewels', 2: 'grandson', 3: 'Run The Jewels, Joi', 4: 'Run The Jewels', 5: 'grandson', 6: 'Falling In Reverse', 7: 'grandson', 8: 'Hatebreed', 9: 'Run The Jewels', 10: 'Run The Jewels', 11: 'NF', 12: 'LRKR', 13: 'NF', 14: 'NF', 15: 'NF', 16: 'NF', 17: 'NF', 18: 'NF', 19: 'Mad Zach', 20: 'Run The Jewels', 21: 'NF', 22: 'LRKR', 23: 'NF', 24: 'NF', 25: 'NF', 26: 'NF', 27: 'NF', 28: 'NF', 29: 'Mad Zach'}\n",
      "time_range {0: 'short_term', 1: 'short_term', 2: 'short_term', 3: 'short_term', 4: 'short_term', 5: 'short_term', 6: 'short_term', 7: 'short_term', 8: 'short_term', 9: 'short_term', 10: 'medium_term', 11: 'medium_term', 12: 'medium_term', 13: 'medium_term', 14: 'medium_term', 15: 'medium_term', 16: 'medium_term', 17: 'medium_term', 18: 'medium_term', 19: 'medium_term', 20: 'long_term', 21: 'long_term', 22: 'long_term', 23: 'long_term', 24: 'long_term', 25: 'long_term', 26: 'long_term', 27: 'long_term', 28: 'long_term', 29: 'long_term'}\n"
     ]
    }
   ],
   "source": [
    "for key, item in track_dict.items():\n",
    "    print(key, item)"
   ]
  },
  {
   "cell_type": "code",
   "execution_count": 31,
   "metadata": {},
   "outputs": [
    {
     "ename": "AttributeError",
     "evalue": "'dict' object has no attribute 'iterrows'",
     "output_type": "error",
     "traceback": [
      "\u001b[0;31m---------------------------------------------------------------------------\u001b[0m",
      "\u001b[0;31mAttributeError\u001b[0m                            Traceback (most recent call last)",
      "\u001b[0;32m<ipython-input-31-383c407762b5>\u001b[0m in \u001b[0;36m<module>\u001b[0;34m\u001b[0m\n\u001b[0;32m----> 1\u001b[0;31m \u001b[0;32mfor\u001b[0m \u001b[0mkey\u001b[0m\u001b[0;34m,\u001b[0m \u001b[0mvalue\u001b[0m \u001b[0;32min\u001b[0m \u001b[0mtrack_dict\u001b[0m\u001b[0;34m.\u001b[0m\u001b[0miterrows\u001b[0m\u001b[0;34m(\u001b[0m\u001b[0;34m)\u001b[0m\u001b[0;34m:\u001b[0m\u001b[0;34m\u001b[0m\u001b[0;34m\u001b[0m\u001b[0m\n\u001b[0m\u001b[1;32m      2\u001b[0m     \u001b[0mprint\u001b[0m\u001b[0;34m(\u001b[0m\u001b[0mvalue\u001b[0m\u001b[0;34m[\u001b[0m\u001b[0;34m'track_name'\u001b[0m\u001b[0;34m]\u001b[0m\u001b[0;34m)\u001b[0m\u001b[0;34m\u001b[0m\u001b[0;34m\u001b[0m\u001b[0m\n",
      "\u001b[0;31mAttributeError\u001b[0m: 'dict' object has no attribute 'iterrows'"
     ]
    }
   ],
   "source": [
    "for key, value in track_dict.iterrows():\n",
    "    print(value['track_name'])"
   ]
  },
  {
   "cell_type": "code",
   "execution_count": 34,
   "metadata": {},
   "outputs": [
    {
     "name": "stdout",
     "output_type": "stream",
     "text": [
      "0 Blockbuster Night, Pt. 1\n",
      "1 Talk to Me\n",
      "2 WWIII\n",
      "3 Down (feat. Joi)\n",
      "4 Oh Mama\n",
      "5 Riptide\n",
      "6 Popular Monster\n",
      "7 Blood // Water\n",
      "8 I Will Be Heard\n",
      "9 yankee and the brave (ep. 4)\n",
      "10 Blockbuster Night, Pt. 1\n",
      "11 When I Grow Up\n",
      "12 The Dark\n",
      "13 No Excuses\n",
      "14 Nate\n",
      "15 Returns\n",
      "16 PAID MY DUES\n",
      "17 The Search\n",
      "18 Leave Me Alone\n",
      "19 The Visitor\n",
      "20 Blockbuster Night, Pt. 1\n",
      "21 When I Grow Up\n",
      "22 The Dark\n",
      "23 No Excuses\n",
      "24 Nate\n",
      "25 Returns\n",
      "26 PAID MY DUES\n",
      "27 The Search\n",
      "28 Leave Me Alone\n",
      "29 The Visitor\n"
     ]
    }
   ],
   "source": [
    "for key, value in df.iterrows():\n",
    "    print(key, value['track_name'])"
   ]
  },
  {
   "cell_type": "code",
   "execution_count": 37,
   "metadata": {},
   "outputs": [
    {
     "name": "stdout",
     "output_type": "stream",
     "text": [
      "Track Name\n",
      "Artist Name\n",
      "Time Range\n"
     ]
    }
   ],
   "source": [
    "for column in df.columns:\n",
    "    print(column.replace('_', ' ').title())"
   ]
  },
  {
   "cell_type": "code",
   "execution_count": null,
   "metadata": {},
   "outputs": [],
   "source": []
  }
 ],
 "metadata": {
  "kernelspec": {
   "display_name": "Python 3",
   "language": "python",
   "name": "python3"
  },
  "language_info": {
   "codemirror_mode": {
    "name": "ipython",
    "version": 3
   },
   "file_extension": ".py",
   "mimetype": "text/x-python",
   "name": "python",
   "nbconvert_exporter": "python",
   "pygments_lexer": "ipython3",
   "version": "3.7.7"
  }
 },
 "nbformat": 4,
 "nbformat_minor": 4
}
